{
 "cells": [
  {
   "cell_type": "code",
   "execution_count": 1,
   "metadata": {
    "collapsed": false
   },
   "outputs": [
    {
     "name": "stdout",
     "output_type": "stream",
     "text": [
      "Populating the interactive namespace from numpy and matplotlib\n"
     ]
    }
   ],
   "source": [
    "%pylab inline\n",
    "import pandas as pd\n",
    "from sklearn.cross_validation import train_test_split\n",
    "from sklearn.ensemble import RandomForestClassifier\n",
    "from sklearn.linear_model import LinearRegression\n",
    "from sklearn.metrics import r2_score\n",
    "from sklearn.preprocessing import StandardScaler"
   ]
  },
  {
   "cell_type": "markdown",
   "metadata": {},
   "source": [
    "Import USGS water use data"
   ]
  },
  {
   "cell_type": "code",
   "execution_count": 2,
   "metadata": {
    "collapsed": true
   },
   "outputs": [],
   "source": [
    "df = pd.read_csv('cc1.csv')"
   ]
  },
  {
   "cell_type": "markdown",
   "metadata": {},
   "source": [
    "Drop columns tallying unrelated to fresh water supply (sailine usage)"
   ]
  },
  {
   "cell_type": "code",
   "execution_count": 3,
   "metadata": {
    "collapsed": true
   },
   "outputs": [],
   "source": [
    "df.drop(df.columns[[0,2,11,12,14,15,17,18,28,29,31,32,34,35,61,62,64,65,67,68,70,71,73,74,76,77,79,80,82,83,85,86,89,\n",
    "                    90,92,93,95,96,99,100,102,103,105,106,108,109,110,111,112,113,115,116,117]], axis=1, inplace=True)"
   ]
  },
  {
   "cell_type": "code",
   "execution_count": 4,
   "metadata": {
    "collapsed": true
   },
   "outputs": [],
   "source": [
    "df = df.iloc[np.random.permutation(len(df))]"
   ]
  },
  {
   "cell_type": "markdown",
   "metadata": {},
   "source": [
    "Isolate total fresh water usage"
   ]
  },
  {
   "cell_type": "code",
   "execution_count": 5,
   "metadata": {
    "collapsed": true
   },
   "outputs": [],
   "source": [
    "y = df.pop(\"TO-WFrTo\")\n",
    "y2 = y.copy()"
   ]
  },
  {
   "cell_type": "code",
   "execution_count": 6,
   "metadata": {
    "collapsed": false
   },
   "outputs": [
    {
     "data": {
      "text/html": [
       "<div>\n",
       "<table border=\"1\" class=\"dataframe\">\n",
       "  <thead>\n",
       "    <tr style=\"text-align: right;\">\n",
       "      <th></th>\n",
       "      <th>STATEFIPS</th>\n",
       "      <th>COUNTYFIPS</th>\n",
       "      <th>FIPS</th>\n",
       "      <th>YEAR</th>\n",
       "      <th>TP-TotPop</th>\n",
       "      <th>PS-GWPop</th>\n",
       "      <th>PS-SWPop</th>\n",
       "      <th>PS-TOPop</th>\n",
       "      <th>PS-WGWFr</th>\n",
       "      <th>PS-WSWFr</th>\n",
       "      <th>...</th>\n",
       "      <th>PT-WFrTo</th>\n",
       "      <th>PT-Power</th>\n",
       "      <th>PO-WGWFr</th>\n",
       "      <th>PO-WSWFr</th>\n",
       "      <th>PO-WFrTo</th>\n",
       "      <th>PO-Power</th>\n",
       "      <th>PC-WGWFr</th>\n",
       "      <th>PC-WSWFr</th>\n",
       "      <th>PC-WFrTo</th>\n",
       "      <th>PC-Power</th>\n",
       "    </tr>\n",
       "  </thead>\n",
       "  <tbody>\n",
       "    <tr>\n",
       "      <th>2095</th>\n",
       "      <td>39</td>\n",
       "      <td>105</td>\n",
       "      <td>39105</td>\n",
       "      <td>2010</td>\n",
       "      <td>23.770</td>\n",
       "      <td>22.470</td>\n",
       "      <td>0.000</td>\n",
       "      <td>22.470</td>\n",
       "      <td>1.87</td>\n",
       "      <td>0.00</td>\n",
       "      <td>...</td>\n",
       "      <td>0.00</td>\n",
       "      <td>0.00</td>\n",
       "      <td>0.00</td>\n",
       "      <td>0.00</td>\n",
       "      <td>0.00</td>\n",
       "      <td>0.00</td>\n",
       "      <td>0.00</td>\n",
       "      <td>0</td>\n",
       "      <td>0.00</td>\n",
       "      <td>0.00</td>\n",
       "    </tr>\n",
       "    <tr>\n",
       "      <th>2530</th>\n",
       "      <td>48</td>\n",
       "      <td>15</td>\n",
       "      <td>48015</td>\n",
       "      <td>2010</td>\n",
       "      <td>28.417</td>\n",
       "      <td>NaN</td>\n",
       "      <td>NaN</td>\n",
       "      <td>12.962</td>\n",
       "      <td>0.10</td>\n",
       "      <td>0.00</td>\n",
       "      <td>...</td>\n",
       "      <td>0.00</td>\n",
       "      <td>0.00</td>\n",
       "      <td>0.00</td>\n",
       "      <td>0.00</td>\n",
       "      <td>0.00</td>\n",
       "      <td>0.00</td>\n",
       "      <td>0.00</td>\n",
       "      <td>0</td>\n",
       "      <td>0.00</td>\n",
       "      <td>0.00</td>\n",
       "    </tr>\n",
       "    <tr>\n",
       "      <th>3203</th>\n",
       "      <td>72</td>\n",
       "      <td>119</td>\n",
       "      <td>72119</td>\n",
       "      <td>2010</td>\n",
       "      <td>54.304</td>\n",
       "      <td>0.000</td>\n",
       "      <td>54.304</td>\n",
       "      <td>54.304</td>\n",
       "      <td>0.00</td>\n",
       "      <td>13.98</td>\n",
       "      <td>...</td>\n",
       "      <td>0.00</td>\n",
       "      <td>0.00</td>\n",
       "      <td>0.00</td>\n",
       "      <td>0.00</td>\n",
       "      <td>0.00</td>\n",
       "      <td>0.00</td>\n",
       "      <td>0.00</td>\n",
       "      <td>0</td>\n",
       "      <td>0.00</td>\n",
       "      <td>0.00</td>\n",
       "    </tr>\n",
       "    <tr>\n",
       "      <th>2238</th>\n",
       "      <td>41</td>\n",
       "      <td>61</td>\n",
       "      <td>41061</td>\n",
       "      <td>2010</td>\n",
       "      <td>25.748</td>\n",
       "      <td>18.796</td>\n",
       "      <td>0.000</td>\n",
       "      <td>18.796</td>\n",
       "      <td>4.16</td>\n",
       "      <td>0.00</td>\n",
       "      <td>...</td>\n",
       "      <td>0.00</td>\n",
       "      <td>0.00</td>\n",
       "      <td>0.00</td>\n",
       "      <td>0.00</td>\n",
       "      <td>0.00</td>\n",
       "      <td>0.00</td>\n",
       "      <td>0.00</td>\n",
       "      <td>0</td>\n",
       "      <td>0.00</td>\n",
       "      <td>0.00</td>\n",
       "    </tr>\n",
       "    <tr>\n",
       "      <th>1796</th>\n",
       "      <td>35</td>\n",
       "      <td>3</td>\n",
       "      <td>35003</td>\n",
       "      <td>2010</td>\n",
       "      <td>3.725</td>\n",
       "      <td>NaN</td>\n",
       "      <td>NaN</td>\n",
       "      <td>1.667</td>\n",
       "      <td>0.14</td>\n",
       "      <td>0.04</td>\n",
       "      <td>...</td>\n",
       "      <td>0.00</td>\n",
       "      <td>0.00</td>\n",
       "      <td>0.00</td>\n",
       "      <td>0.00</td>\n",
       "      <td>0.00</td>\n",
       "      <td>0.00</td>\n",
       "      <td>0.00</td>\n",
       "      <td>0</td>\n",
       "      <td>0.00</td>\n",
       "      <td>0.00</td>\n",
       "    </tr>\n",
       "    <tr>\n",
       "      <th>1085</th>\n",
       "      <td>21</td>\n",
       "      <td>185</td>\n",
       "      <td>21185</td>\n",
       "      <td>2010</td>\n",
       "      <td>60.316</td>\n",
       "      <td>NaN</td>\n",
       "      <td>NaN</td>\n",
       "      <td>24.947</td>\n",
       "      <td>4.22</td>\n",
       "      <td>0.00</td>\n",
       "      <td>...</td>\n",
       "      <td>0.00</td>\n",
       "      <td>0.00</td>\n",
       "      <td>0.00</td>\n",
       "      <td>0.00</td>\n",
       "      <td>0.00</td>\n",
       "      <td>0.00</td>\n",
       "      <td>0.00</td>\n",
       "      <td>0</td>\n",
       "      <td>0.00</td>\n",
       "      <td>0.00</td>\n",
       "    </tr>\n",
       "    <tr>\n",
       "      <th>718</th>\n",
       "      <td>18</td>\n",
       "      <td>43</td>\n",
       "      <td>18043</td>\n",
       "      <td>2010</td>\n",
       "      <td>74.578</td>\n",
       "      <td>NaN</td>\n",
       "      <td>NaN</td>\n",
       "      <td>71.819</td>\n",
       "      <td>1.25</td>\n",
       "      <td>0.00</td>\n",
       "      <td>...</td>\n",
       "      <td>252.76</td>\n",
       "      <td>2296.11</td>\n",
       "      <td>0.02</td>\n",
       "      <td>252.74</td>\n",
       "      <td>252.76</td>\n",
       "      <td>2296.11</td>\n",
       "      <td>0.00</td>\n",
       "      <td>0</td>\n",
       "      <td>0.00</td>\n",
       "      <td>0.00</td>\n",
       "    </tr>\n",
       "    <tr>\n",
       "      <th>2891</th>\n",
       "      <td>51</td>\n",
       "      <td>149</td>\n",
       "      <td>51149</td>\n",
       "      <td>2010</td>\n",
       "      <td>35.725</td>\n",
       "      <td>4.467</td>\n",
       "      <td>28.780</td>\n",
       "      <td>33.247</td>\n",
       "      <td>0.30</td>\n",
       "      <td>0.00</td>\n",
       "      <td>...</td>\n",
       "      <td>0.00</td>\n",
       "      <td>0.00</td>\n",
       "      <td>0.00</td>\n",
       "      <td>0.00</td>\n",
       "      <td>0.00</td>\n",
       "      <td>0.00</td>\n",
       "      <td>0.00</td>\n",
       "      <td>0</td>\n",
       "      <td>0.00</td>\n",
       "      <td>0.00</td>\n",
       "    </tr>\n",
       "    <tr>\n",
       "      <th>767</th>\n",
       "      <td>18</td>\n",
       "      <td>141</td>\n",
       "      <td>18141</td>\n",
       "      <td>2010</td>\n",
       "      <td>266.931</td>\n",
       "      <td>NaN</td>\n",
       "      <td>NaN</td>\n",
       "      <td>190.589</td>\n",
       "      <td>22.32</td>\n",
       "      <td>0.00</td>\n",
       "      <td>...</td>\n",
       "      <td>0.00</td>\n",
       "      <td>0.00</td>\n",
       "      <td>0.00</td>\n",
       "      <td>0.00</td>\n",
       "      <td>0.00</td>\n",
       "      <td>0.00</td>\n",
       "      <td>0.00</td>\n",
       "      <td>0</td>\n",
       "      <td>0.00</td>\n",
       "      <td>0.00</td>\n",
       "    </tr>\n",
       "    <tr>\n",
       "      <th>1332</th>\n",
       "      <td>27</td>\n",
       "      <td>37</td>\n",
       "      <td>27037</td>\n",
       "      <td>2010</td>\n",
       "      <td>398.552</td>\n",
       "      <td>330.550</td>\n",
       "      <td>57.950</td>\n",
       "      <td>388.500</td>\n",
       "      <td>37.54</td>\n",
       "      <td>3.71</td>\n",
       "      <td>...</td>\n",
       "      <td>260.00</td>\n",
       "      <td>1331.56</td>\n",
       "      <td>0.00</td>\n",
       "      <td>260.00</td>\n",
       "      <td>260.00</td>\n",
       "      <td>1331.56</td>\n",
       "      <td>0.00</td>\n",
       "      <td>0</td>\n",
       "      <td>0.00</td>\n",
       "      <td>0.00</td>\n",
       "    </tr>\n",
       "    <tr>\n",
       "      <th>224</th>\n",
       "      <td>6</td>\n",
       "      <td>77</td>\n",
       "      <td>6077</td>\n",
       "      <td>2010</td>\n",
       "      <td>685.306</td>\n",
       "      <td>189.290</td>\n",
       "      <td>426.760</td>\n",
       "      <td>616.050</td>\n",
       "      <td>43.63</td>\n",
       "      <td>71.18</td>\n",
       "      <td>...</td>\n",
       "      <td>1.53</td>\n",
       "      <td>475.05</td>\n",
       "      <td>0.00</td>\n",
       "      <td>0.00</td>\n",
       "      <td>0.00</td>\n",
       "      <td>0.00</td>\n",
       "      <td>1.53</td>\n",
       "      <td>0</td>\n",
       "      <td>1.53</td>\n",
       "      <td>475.05</td>\n",
       "    </tr>\n",
       "    <tr>\n",
       "      <th>148</th>\n",
       "      <td>5</td>\n",
       "      <td>75</td>\n",
       "      <td>5075</td>\n",
       "      <td>2010</td>\n",
       "      <td>17.415</td>\n",
       "      <td>17.415</td>\n",
       "      <td>0.000</td>\n",
       "      <td>17.415</td>\n",
       "      <td>1.15</td>\n",
       "      <td>0.00</td>\n",
       "      <td>...</td>\n",
       "      <td>0.00</td>\n",
       "      <td>0.00</td>\n",
       "      <td>0.00</td>\n",
       "      <td>0.00</td>\n",
       "      <td>0.00</td>\n",
       "      <td>0.00</td>\n",
       "      <td>0.00</td>\n",
       "      <td>0</td>\n",
       "      <td>0.00</td>\n",
       "      <td>0.00</td>\n",
       "    </tr>\n",
       "    <tr>\n",
       "      <th>2311</th>\n",
       "      <td>44</td>\n",
       "      <td>1</td>\n",
       "      <td>44001</td>\n",
       "      <td>2010</td>\n",
       "      <td>49.875</td>\n",
       "      <td>0.223</td>\n",
       "      <td>49.302</td>\n",
       "      <td>49.525</td>\n",
       "      <td>0.00</td>\n",
       "      <td>0.89</td>\n",
       "      <td>...</td>\n",
       "      <td>0.00</td>\n",
       "      <td>0.00</td>\n",
       "      <td>0.00</td>\n",
       "      <td>0.00</td>\n",
       "      <td>0.00</td>\n",
       "      <td>0.00</td>\n",
       "      <td>0.00</td>\n",
       "      <td>0</td>\n",
       "      <td>0.00</td>\n",
       "      <td>0.00</td>\n",
       "    </tr>\n",
       "    <tr>\n",
       "      <th>2756</th>\n",
       "      <td>48</td>\n",
       "      <td>467</td>\n",
       "      <td>48467</td>\n",
       "      <td>2010</td>\n",
       "      <td>52.579</td>\n",
       "      <td>NaN</td>\n",
       "      <td>NaN</td>\n",
       "      <td>36.308</td>\n",
       "      <td>1.99</td>\n",
       "      <td>2.56</td>\n",
       "      <td>...</td>\n",
       "      <td>0.00</td>\n",
       "      <td>0.00</td>\n",
       "      <td>0.00</td>\n",
       "      <td>0.00</td>\n",
       "      <td>0.00</td>\n",
       "      <td>0.00</td>\n",
       "      <td>0.00</td>\n",
       "      <td>0</td>\n",
       "      <td>0.00</td>\n",
       "      <td>0.00</td>\n",
       "    </tr>\n",
       "    <tr>\n",
       "      <th>1037</th>\n",
       "      <td>21</td>\n",
       "      <td>89</td>\n",
       "      <td>21089</td>\n",
       "      <td>2010</td>\n",
       "      <td>36.910</td>\n",
       "      <td>NaN</td>\n",
       "      <td>NaN</td>\n",
       "      <td>35.064</td>\n",
       "      <td>0.60</td>\n",
       "      <td>2.91</td>\n",
       "      <td>...</td>\n",
       "      <td>0.00</td>\n",
       "      <td>0.00</td>\n",
       "      <td>0.00</td>\n",
       "      <td>0.00</td>\n",
       "      <td>0.00</td>\n",
       "      <td>0.00</td>\n",
       "      <td>0.00</td>\n",
       "      <td>0</td>\n",
       "      <td>0.00</td>\n",
       "      <td>0.00</td>\n",
       "    </tr>\n",
       "    <tr>\n",
       "      <th>1204</th>\n",
       "      <td>24</td>\n",
       "      <td>25</td>\n",
       "      <td>24025</td>\n",
       "      <td>2010</td>\n",
       "      <td>244.826</td>\n",
       "      <td>30.950</td>\n",
       "      <td>135.210</td>\n",
       "      <td>166.160</td>\n",
       "      <td>5.00</td>\n",
       "      <td>5.90</td>\n",
       "      <td>...</td>\n",
       "      <td>0.01</td>\n",
       "      <td>69.00</td>\n",
       "      <td>0.01</td>\n",
       "      <td>0.00</td>\n",
       "      <td>0.01</td>\n",
       "      <td>69.00</td>\n",
       "      <td>0.00</td>\n",
       "      <td>0</td>\n",
       "      <td>0.00</td>\n",
       "      <td>0.00</td>\n",
       "    </tr>\n",
       "    <tr>\n",
       "      <th>1774</th>\n",
       "      <td>34</td>\n",
       "      <td>1</td>\n",
       "      <td>34001</td>\n",
       "      <td>2010</td>\n",
       "      <td>274.549</td>\n",
       "      <td>201.002</td>\n",
       "      <td>5.669</td>\n",
       "      <td>206.671</td>\n",
       "      <td>32.19</td>\n",
       "      <td>3.00</td>\n",
       "      <td>...</td>\n",
       "      <td>0.00</td>\n",
       "      <td>0.00</td>\n",
       "      <td>0.00</td>\n",
       "      <td>0.00</td>\n",
       "      <td>0.00</td>\n",
       "      <td>0.00</td>\n",
       "      <td>0.00</td>\n",
       "      <td>0</td>\n",
       "      <td>0.00</td>\n",
       "      <td>0.00</td>\n",
       "    </tr>\n",
       "    <tr>\n",
       "      <th>1066</th>\n",
       "      <td>21</td>\n",
       "      <td>147</td>\n",
       "      <td>21147</td>\n",
       "      <td>2010</td>\n",
       "      <td>18.306</td>\n",
       "      <td>NaN</td>\n",
       "      <td>NaN</td>\n",
       "      <td>15.954</td>\n",
       "      <td>0.00</td>\n",
       "      <td>1.89</td>\n",
       "      <td>...</td>\n",
       "      <td>0.00</td>\n",
       "      <td>0.00</td>\n",
       "      <td>0.00</td>\n",
       "      <td>0.00</td>\n",
       "      <td>0.00</td>\n",
       "      <td>0.00</td>\n",
       "      <td>0.00</td>\n",
       "      <td>0</td>\n",
       "      <td>0.00</td>\n",
       "      <td>0.00</td>\n",
       "    </tr>\n",
       "    <tr>\n",
       "      <th>1687</th>\n",
       "      <td>31</td>\n",
       "      <td>67</td>\n",
       "      <td>31067</td>\n",
       "      <td>2010</td>\n",
       "      <td>22.311</td>\n",
       "      <td>NaN</td>\n",
       "      <td>NaN</td>\n",
       "      <td>17.440</td>\n",
       "      <td>4.58</td>\n",
       "      <td>0.00</td>\n",
       "      <td>...</td>\n",
       "      <td>0.07</td>\n",
       "      <td>25.50</td>\n",
       "      <td>0.00</td>\n",
       "      <td>0.00</td>\n",
       "      <td>0.00</td>\n",
       "      <td>0.00</td>\n",
       "      <td>0.07</td>\n",
       "      <td>0</td>\n",
       "      <td>0.07</td>\n",
       "      <td>25.50</td>\n",
       "    </tr>\n",
       "    <tr>\n",
       "      <th>2844</th>\n",
       "      <td>51</td>\n",
       "      <td>49</td>\n",
       "      <td>51049</td>\n",
       "      <td>2010</td>\n",
       "      <td>10.052</td>\n",
       "      <td>2.002</td>\n",
       "      <td>0.000</td>\n",
       "      <td>2.002</td>\n",
       "      <td>0.01</td>\n",
       "      <td>0.00</td>\n",
       "      <td>...</td>\n",
       "      <td>0.00</td>\n",
       "      <td>0.00</td>\n",
       "      <td>0.00</td>\n",
       "      <td>0.00</td>\n",
       "      <td>0.00</td>\n",
       "      <td>0.00</td>\n",
       "      <td>0.00</td>\n",
       "      <td>0</td>\n",
       "      <td>0.00</td>\n",
       "      <td>0.00</td>\n",
       "    </tr>\n",
       "    <tr>\n",
       "      <th>2125</th>\n",
       "      <td>39</td>\n",
       "      <td>165</td>\n",
       "      <td>39165</td>\n",
       "      <td>2010</td>\n",
       "      <td>212.693</td>\n",
       "      <td>168.566</td>\n",
       "      <td>11.230</td>\n",
       "      <td>179.796</td>\n",
       "      <td>16.75</td>\n",
       "      <td>1.59</td>\n",
       "      <td>...</td>\n",
       "      <td>0.00</td>\n",
       "      <td>0.00</td>\n",
       "      <td>0.00</td>\n",
       "      <td>0.00</td>\n",
       "      <td>0.00</td>\n",
       "      <td>0.00</td>\n",
       "      <td>0.00</td>\n",
       "      <td>0</td>\n",
       "      <td>0.00</td>\n",
       "      <td>0.00</td>\n",
       "    </tr>\n",
       "    <tr>\n",
       "      <th>3062</th>\n",
       "      <td>55</td>\n",
       "      <td>29</td>\n",
       "      <td>55029</td>\n",
       "      <td>2010</td>\n",
       "      <td>27.785</td>\n",
       "      <td>10.309</td>\n",
       "      <td>0.000</td>\n",
       "      <td>10.309</td>\n",
       "      <td>1.53</td>\n",
       "      <td>0.00</td>\n",
       "      <td>...</td>\n",
       "      <td>0.00</td>\n",
       "      <td>0.00</td>\n",
       "      <td>0.00</td>\n",
       "      <td>0.00</td>\n",
       "      <td>0.00</td>\n",
       "      <td>0.00</td>\n",
       "      <td>0.00</td>\n",
       "      <td>0</td>\n",
       "      <td>0.00</td>\n",
       "      <td>0.00</td>\n",
       "    </tr>\n",
       "    <tr>\n",
       "      <th>1753</th>\n",
       "      <td>32</td>\n",
       "      <td>13</td>\n",
       "      <td>32013</td>\n",
       "      <td>2010</td>\n",
       "      <td>16.528</td>\n",
       "      <td>NaN</td>\n",
       "      <td>NaN</td>\n",
       "      <td>11.674</td>\n",
       "      <td>3.71</td>\n",
       "      <td>0.00</td>\n",
       "      <td>...</td>\n",
       "      <td>7.08</td>\n",
       "      <td>2863.72</td>\n",
       "      <td>0.00</td>\n",
       "      <td>0.00</td>\n",
       "      <td>0.00</td>\n",
       "      <td>0.00</td>\n",
       "      <td>7.08</td>\n",
       "      <td>0</td>\n",
       "      <td>7.08</td>\n",
       "      <td>2863.72</td>\n",
       "    </tr>\n",
       "    <tr>\n",
       "      <th>334</th>\n",
       "      <td>12</td>\n",
       "      <td>31</td>\n",
       "      <td>12031</td>\n",
       "      <td>2010</td>\n",
       "      <td>864.263</td>\n",
       "      <td>821.050</td>\n",
       "      <td>0.000</td>\n",
       "      <td>821.050</td>\n",
       "      <td>122.14</td>\n",
       "      <td>0.00</td>\n",
       "      <td>...</td>\n",
       "      <td>6.97</td>\n",
       "      <td>18663.00</td>\n",
       "      <td>0.34</td>\n",
       "      <td>0.00</td>\n",
       "      <td>0.34</td>\n",
       "      <td>4726.90</td>\n",
       "      <td>6.63</td>\n",
       "      <td>0</td>\n",
       "      <td>6.63</td>\n",
       "      <td>13936.10</td>\n",
       "    </tr>\n",
       "    <tr>\n",
       "      <th>1613</th>\n",
       "      <td>30</td>\n",
       "      <td>31</td>\n",
       "      <td>30031</td>\n",
       "      <td>2010</td>\n",
       "      <td>89.513</td>\n",
       "      <td>NaN</td>\n",
       "      <td>NaN</td>\n",
       "      <td>65.796</td>\n",
       "      <td>5.54</td>\n",
       "      <td>7.35</td>\n",
       "      <td>...</td>\n",
       "      <td>0.00</td>\n",
       "      <td>0.00</td>\n",
       "      <td>0.00</td>\n",
       "      <td>0.00</td>\n",
       "      <td>0.00</td>\n",
       "      <td>0.00</td>\n",
       "      <td>0.00</td>\n",
       "      <td>0</td>\n",
       "      <td>0.00</td>\n",
       "      <td>0.00</td>\n",
       "    </tr>\n",
       "    <tr>\n",
       "      <th>308</th>\n",
       "      <td>9</td>\n",
       "      <td>1</td>\n",
       "      <td>9001</td>\n",
       "      <td>2010</td>\n",
       "      <td>916.829</td>\n",
       "      <td>NaN</td>\n",
       "      <td>NaN</td>\n",
       "      <td>709.770</td>\n",
       "      <td>87.81</td>\n",
       "      <td>131.18</td>\n",
       "      <td>...</td>\n",
       "      <td>0.00</td>\n",
       "      <td>2456.27</td>\n",
       "      <td>0.00</td>\n",
       "      <td>0.00</td>\n",
       "      <td>0.00</td>\n",
       "      <td>2456.27</td>\n",
       "      <td>0.00</td>\n",
       "      <td>0</td>\n",
       "      <td>0.00</td>\n",
       "      <td>0.00</td>\n",
       "    </tr>\n",
       "    <tr>\n",
       "      <th>451</th>\n",
       "      <td>13</td>\n",
       "      <td>131</td>\n",
       "      <td>13131</td>\n",
       "      <td>2010</td>\n",
       "      <td>25.011</td>\n",
       "      <td>11.130</td>\n",
       "      <td>0.000</td>\n",
       "      <td>11.130</td>\n",
       "      <td>1.69</td>\n",
       "      <td>0.00</td>\n",
       "      <td>...</td>\n",
       "      <td>0.00</td>\n",
       "      <td>0.00</td>\n",
       "      <td>0.00</td>\n",
       "      <td>0.00</td>\n",
       "      <td>0.00</td>\n",
       "      <td>0.00</td>\n",
       "      <td>0.00</td>\n",
       "      <td>0</td>\n",
       "      <td>0.00</td>\n",
       "      <td>0.00</td>\n",
       "    </tr>\n",
       "    <tr>\n",
       "      <th>1535</th>\n",
       "      <td>29</td>\n",
       "      <td>105</td>\n",
       "      <td>29105</td>\n",
       "      <td>2010</td>\n",
       "      <td>35.571</td>\n",
       "      <td>NaN</td>\n",
       "      <td>NaN</td>\n",
       "      <td>27.002</td>\n",
       "      <td>4.18</td>\n",
       "      <td>0.00</td>\n",
       "      <td>...</td>\n",
       "      <td>0.00</td>\n",
       "      <td>0.00</td>\n",
       "      <td>0.00</td>\n",
       "      <td>0.00</td>\n",
       "      <td>0.00</td>\n",
       "      <td>0.00</td>\n",
       "      <td>0.00</td>\n",
       "      <td>0</td>\n",
       "      <td>0.00</td>\n",
       "      <td>0.00</td>\n",
       "    </tr>\n",
       "    <tr>\n",
       "      <th>635</th>\n",
       "      <td>17</td>\n",
       "      <td>81</td>\n",
       "      <td>17081</td>\n",
       "      <td>2010</td>\n",
       "      <td>38.827</td>\n",
       "      <td>0.000</td>\n",
       "      <td>35.270</td>\n",
       "      <td>35.270</td>\n",
       "      <td>0.00</td>\n",
       "      <td>0.00</td>\n",
       "      <td>...</td>\n",
       "      <td>0.00</td>\n",
       "      <td>0.00</td>\n",
       "      <td>0.00</td>\n",
       "      <td>0.00</td>\n",
       "      <td>0.00</td>\n",
       "      <td>0.00</td>\n",
       "      <td>0.00</td>\n",
       "      <td>0</td>\n",
       "      <td>0.00</td>\n",
       "      <td>0.00</td>\n",
       "    </tr>\n",
       "    <tr>\n",
       "      <th>2740</th>\n",
       "      <td>48</td>\n",
       "      <td>435</td>\n",
       "      <td>48435</td>\n",
       "      <td>2010</td>\n",
       "      <td>4.128</td>\n",
       "      <td>NaN</td>\n",
       "      <td>NaN</td>\n",
       "      <td>3.008</td>\n",
       "      <td>0.71</td>\n",
       "      <td>0.00</td>\n",
       "      <td>...</td>\n",
       "      <td>0.00</td>\n",
       "      <td>0.00</td>\n",
       "      <td>0.00</td>\n",
       "      <td>0.00</td>\n",
       "      <td>0.00</td>\n",
       "      <td>0.00</td>\n",
       "      <td>0.00</td>\n",
       "      <td>0</td>\n",
       "      <td>0.00</td>\n",
       "      <td>0.00</td>\n",
       "    </tr>\n",
       "    <tr>\n",
       "      <th>...</th>\n",
       "      <td>...</td>\n",
       "      <td>...</td>\n",
       "      <td>...</td>\n",
       "      <td>...</td>\n",
       "      <td>...</td>\n",
       "      <td>...</td>\n",
       "      <td>...</td>\n",
       "      <td>...</td>\n",
       "      <td>...</td>\n",
       "      <td>...</td>\n",
       "      <td>...</td>\n",
       "      <td>...</td>\n",
       "      <td>...</td>\n",
       "      <td>...</td>\n",
       "      <td>...</td>\n",
       "      <td>...</td>\n",
       "      <td>...</td>\n",
       "      <td>...</td>\n",
       "      <td>...</td>\n",
       "      <td>...</td>\n",
       "      <td>...</td>\n",
       "    </tr>\n",
       "    <tr>\n",
       "      <th>1918</th>\n",
       "      <td>37</td>\n",
       "      <td>57</td>\n",
       "      <td>37057</td>\n",
       "      <td>2010</td>\n",
       "      <td>162.878</td>\n",
       "      <td>0.000</td>\n",
       "      <td>114.015</td>\n",
       "      <td>114.015</td>\n",
       "      <td>0.00</td>\n",
       "      <td>18.37</td>\n",
       "      <td>...</td>\n",
       "      <td>0.00</td>\n",
       "      <td>0.00</td>\n",
       "      <td>0.00</td>\n",
       "      <td>0.00</td>\n",
       "      <td>0.00</td>\n",
       "      <td>0.00</td>\n",
       "      <td>0.00</td>\n",
       "      <td>0</td>\n",
       "      <td>0.00</td>\n",
       "      <td>0.00</td>\n",
       "    </tr>\n",
       "    <tr>\n",
       "      <th>694</th>\n",
       "      <td>17</td>\n",
       "      <td>199</td>\n",
       "      <td>17199</td>\n",
       "      <td>2010</td>\n",
       "      <td>66.357</td>\n",
       "      <td>0.000</td>\n",
       "      <td>43.830</td>\n",
       "      <td>43.830</td>\n",
       "      <td>0.12</td>\n",
       "      <td>1.45</td>\n",
       "      <td>...</td>\n",
       "      <td>209.50</td>\n",
       "      <td>1805.43</td>\n",
       "      <td>0.00</td>\n",
       "      <td>209.50</td>\n",
       "      <td>209.50</td>\n",
       "      <td>1805.43</td>\n",
       "      <td>0.00</td>\n",
       "      <td>0</td>\n",
       "      <td>0.00</td>\n",
       "      <td>0.00</td>\n",
       "    </tr>\n",
       "    <tr>\n",
       "      <th>2206</th>\n",
       "      <td>40</td>\n",
       "      <td>151</td>\n",
       "      <td>40151</td>\n",
       "      <td>2010</td>\n",
       "      <td>8.880</td>\n",
       "      <td>7.580</td>\n",
       "      <td>0.000</td>\n",
       "      <td>7.580</td>\n",
       "      <td>1.88</td>\n",
       "      <td>0.00</td>\n",
       "      <td>...</td>\n",
       "      <td>0.00</td>\n",
       "      <td>0.00</td>\n",
       "      <td>0.00</td>\n",
       "      <td>0.00</td>\n",
       "      <td>0.00</td>\n",
       "      <td>0.00</td>\n",
       "      <td>0.00</td>\n",
       "      <td>0</td>\n",
       "      <td>0.00</td>\n",
       "      <td>0.00</td>\n",
       "    </tr>\n",
       "    <tr>\n",
       "      <th>2504</th>\n",
       "      <td>47</td>\n",
       "      <td>153</td>\n",
       "      <td>47153</td>\n",
       "      <td>2010</td>\n",
       "      <td>14.112</td>\n",
       "      <td>NaN</td>\n",
       "      <td>NaN</td>\n",
       "      <td>8.527</td>\n",
       "      <td>0.00</td>\n",
       "      <td>0.73</td>\n",
       "      <td>...</td>\n",
       "      <td>0.00</td>\n",
       "      <td>0.00</td>\n",
       "      <td>0.00</td>\n",
       "      <td>0.00</td>\n",
       "      <td>0.00</td>\n",
       "      <td>0.00</td>\n",
       "      <td>0.00</td>\n",
       "      <td>0</td>\n",
       "      <td>0.00</td>\n",
       "      <td>0.00</td>\n",
       "    </tr>\n",
       "    <tr>\n",
       "      <th>2011</th>\n",
       "      <td>38</td>\n",
       "      <td>43</td>\n",
       "      <td>38043</td>\n",
       "      <td>2010</td>\n",
       "      <td>2.435</td>\n",
       "      <td>NaN</td>\n",
       "      <td>NaN</td>\n",
       "      <td>2.014</td>\n",
       "      <td>0.09</td>\n",
       "      <td>0.00</td>\n",
       "      <td>...</td>\n",
       "      <td>0.00</td>\n",
       "      <td>0.00</td>\n",
       "      <td>0.00</td>\n",
       "      <td>0.00</td>\n",
       "      <td>0.00</td>\n",
       "      <td>0.00</td>\n",
       "      <td>0.00</td>\n",
       "      <td>0</td>\n",
       "      <td>0.00</td>\n",
       "      <td>0.00</td>\n",
       "    </tr>\n",
       "    <tr>\n",
       "      <th>1055</th>\n",
       "      <td>21</td>\n",
       "      <td>125</td>\n",
       "      <td>21125</td>\n",
       "      <td>2010</td>\n",
       "      <td>58.849</td>\n",
       "      <td>NaN</td>\n",
       "      <td>NaN</td>\n",
       "      <td>55.907</td>\n",
       "      <td>0.00</td>\n",
       "      <td>9.10</td>\n",
       "      <td>...</td>\n",
       "      <td>0.00</td>\n",
       "      <td>0.00</td>\n",
       "      <td>0.00</td>\n",
       "      <td>0.00</td>\n",
       "      <td>0.00</td>\n",
       "      <td>0.00</td>\n",
       "      <td>0.00</td>\n",
       "      <td>0</td>\n",
       "      <td>0.00</td>\n",
       "      <td>0.00</td>\n",
       "    </tr>\n",
       "    <tr>\n",
       "      <th>861</th>\n",
       "      <td>19</td>\n",
       "      <td>145</td>\n",
       "      <td>19145</td>\n",
       "      <td>2010</td>\n",
       "      <td>15.932</td>\n",
       "      <td>NaN</td>\n",
       "      <td>NaN</td>\n",
       "      <td>12.481</td>\n",
       "      <td>0.88</td>\n",
       "      <td>0.86</td>\n",
       "      <td>...</td>\n",
       "      <td>0.00</td>\n",
       "      <td>0.00</td>\n",
       "      <td>0.00</td>\n",
       "      <td>0.00</td>\n",
       "      <td>0.00</td>\n",
       "      <td>0.00</td>\n",
       "      <td>0.00</td>\n",
       "      <td>0</td>\n",
       "      <td>0.00</td>\n",
       "      <td>0.00</td>\n",
       "    </tr>\n",
       "    <tr>\n",
       "      <th>2454</th>\n",
       "      <td>47</td>\n",
       "      <td>53</td>\n",
       "      <td>47053</td>\n",
       "      <td>2010</td>\n",
       "      <td>49.683</td>\n",
       "      <td>NaN</td>\n",
       "      <td>NaN</td>\n",
       "      <td>39.774</td>\n",
       "      <td>5.25</td>\n",
       "      <td>0.00</td>\n",
       "      <td>...</td>\n",
       "      <td>0.00</td>\n",
       "      <td>0.00</td>\n",
       "      <td>0.00</td>\n",
       "      <td>0.00</td>\n",
       "      <td>0.00</td>\n",
       "      <td>0.00</td>\n",
       "      <td>0.00</td>\n",
       "      <td>0</td>\n",
       "      <td>0.00</td>\n",
       "      <td>0.00</td>\n",
       "    </tr>\n",
       "    <tr>\n",
       "      <th>543</th>\n",
       "      <td>13</td>\n",
       "      <td>317</td>\n",
       "      <td>13317</td>\n",
       "      <td>2010</td>\n",
       "      <td>10.593</td>\n",
       "      <td>0.750</td>\n",
       "      <td>4.860</td>\n",
       "      <td>5.610</td>\n",
       "      <td>0.06</td>\n",
       "      <td>0.97</td>\n",
       "      <td>...</td>\n",
       "      <td>0.00</td>\n",
       "      <td>0.00</td>\n",
       "      <td>0.00</td>\n",
       "      <td>0.00</td>\n",
       "      <td>0.00</td>\n",
       "      <td>0.00</td>\n",
       "      <td>0.00</td>\n",
       "      <td>0</td>\n",
       "      <td>0.00</td>\n",
       "      <td>0.00</td>\n",
       "    </tr>\n",
       "    <tr>\n",
       "      <th>1168</th>\n",
       "      <td>22</td>\n",
       "      <td>111</td>\n",
       "      <td>22111</td>\n",
       "      <td>2010</td>\n",
       "      <td>22.721</td>\n",
       "      <td>20.319</td>\n",
       "      <td>0.000</td>\n",
       "      <td>20.319</td>\n",
       "      <td>3.55</td>\n",
       "      <td>0.00</td>\n",
       "      <td>...</td>\n",
       "      <td>0.00</td>\n",
       "      <td>0.00</td>\n",
       "      <td>0.00</td>\n",
       "      <td>0.00</td>\n",
       "      <td>0.00</td>\n",
       "      <td>0.00</td>\n",
       "      <td>0.00</td>\n",
       "      <td>0</td>\n",
       "      <td>0.00</td>\n",
       "      <td>0.00</td>\n",
       "    </tr>\n",
       "    <tr>\n",
       "      <th>10</th>\n",
       "      <td>1</td>\n",
       "      <td>21</td>\n",
       "      <td>1021</td>\n",
       "      <td>2010</td>\n",
       "      <td>43.643</td>\n",
       "      <td>NaN</td>\n",
       "      <td>NaN</td>\n",
       "      <td>34.330</td>\n",
       "      <td>3.06</td>\n",
       "      <td>1.83</td>\n",
       "      <td>...</td>\n",
       "      <td>0.00</td>\n",
       "      <td>0.00</td>\n",
       "      <td>0.00</td>\n",
       "      <td>0.00</td>\n",
       "      <td>0.00</td>\n",
       "      <td>0.00</td>\n",
       "      <td>0.00</td>\n",
       "      <td>0</td>\n",
       "      <td>0.00</td>\n",
       "      <td>0.00</td>\n",
       "    </tr>\n",
       "    <tr>\n",
       "      <th>2919</th>\n",
       "      <td>51</td>\n",
       "      <td>540</td>\n",
       "      <td>51540</td>\n",
       "      <td>2010</td>\n",
       "      <td>43.475</td>\n",
       "      <td>0.000</td>\n",
       "      <td>41.487</td>\n",
       "      <td>41.487</td>\n",
       "      <td>0.00</td>\n",
       "      <td>0.00</td>\n",
       "      <td>...</td>\n",
       "      <td>0.00</td>\n",
       "      <td>0.00</td>\n",
       "      <td>0.00</td>\n",
       "      <td>0.00</td>\n",
       "      <td>0.00</td>\n",
       "      <td>0.00</td>\n",
       "      <td>0.00</td>\n",
       "      <td>0</td>\n",
       "      <td>0.00</td>\n",
       "      <td>0.00</td>\n",
       "    </tr>\n",
       "    <tr>\n",
       "      <th>2268</th>\n",
       "      <td>42</td>\n",
       "      <td>49</td>\n",
       "      <td>42049</td>\n",
       "      <td>2010</td>\n",
       "      <td>280.566</td>\n",
       "      <td>55.880</td>\n",
       "      <td>142.700</td>\n",
       "      <td>198.580</td>\n",
       "      <td>3.77</td>\n",
       "      <td>28.30</td>\n",
       "      <td>...</td>\n",
       "      <td>0.00</td>\n",
       "      <td>0.00</td>\n",
       "      <td>0.00</td>\n",
       "      <td>0.00</td>\n",
       "      <td>0.00</td>\n",
       "      <td>0.00</td>\n",
       "      <td>0.00</td>\n",
       "      <td>0</td>\n",
       "      <td>0.00</td>\n",
       "      <td>0.00</td>\n",
       "    </tr>\n",
       "    <tr>\n",
       "      <th>2451</th>\n",
       "      <td>47</td>\n",
       "      <td>47</td>\n",
       "      <td>47047</td>\n",
       "      <td>2010</td>\n",
       "      <td>38.413</td>\n",
       "      <td>NaN</td>\n",
       "      <td>NaN</td>\n",
       "      <td>15.738</td>\n",
       "      <td>2.00</td>\n",
       "      <td>0.00</td>\n",
       "      <td>...</td>\n",
       "      <td>0.00</td>\n",
       "      <td>0.00</td>\n",
       "      <td>0.00</td>\n",
       "      <td>0.00</td>\n",
       "      <td>0.00</td>\n",
       "      <td>0.00</td>\n",
       "      <td>0.00</td>\n",
       "      <td>0</td>\n",
       "      <td>0.00</td>\n",
       "      <td>0.00</td>\n",
       "    </tr>\n",
       "    <tr>\n",
       "      <th>446</th>\n",
       "      <td>13</td>\n",
       "      <td>121</td>\n",
       "      <td>13121</td>\n",
       "      <td>2010</td>\n",
       "      <td>920.581</td>\n",
       "      <td>0.000</td>\n",
       "      <td>870.810</td>\n",
       "      <td>870.810</td>\n",
       "      <td>0.00</td>\n",
       "      <td>200.70</td>\n",
       "      <td>...</td>\n",
       "      <td>0.00</td>\n",
       "      <td>0.00</td>\n",
       "      <td>0.00</td>\n",
       "      <td>0.00</td>\n",
       "      <td>0.00</td>\n",
       "      <td>0.00</td>\n",
       "      <td>0.00</td>\n",
       "      <td>0</td>\n",
       "      <td>0.00</td>\n",
       "      <td>0.00</td>\n",
       "    </tr>\n",
       "    <tr>\n",
       "      <th>2620</th>\n",
       "      <td>48</td>\n",
       "      <td>195</td>\n",
       "      <td>48195</td>\n",
       "      <td>2010</td>\n",
       "      <td>5.613</td>\n",
       "      <td>NaN</td>\n",
       "      <td>NaN</td>\n",
       "      <td>4.653</td>\n",
       "      <td>0.87</td>\n",
       "      <td>0.00</td>\n",
       "      <td>...</td>\n",
       "      <td>0.00</td>\n",
       "      <td>0.00</td>\n",
       "      <td>0.00</td>\n",
       "      <td>0.00</td>\n",
       "      <td>0.00</td>\n",
       "      <td>0.00</td>\n",
       "      <td>0.00</td>\n",
       "      <td>0</td>\n",
       "      <td>0.00</td>\n",
       "      <td>0.00</td>\n",
       "    </tr>\n",
       "    <tr>\n",
       "      <th>3195</th>\n",
       "      <td>72</td>\n",
       "      <td>103</td>\n",
       "      <td>72103</td>\n",
       "      <td>2010</td>\n",
       "      <td>26.720</td>\n",
       "      <td>0.000</td>\n",
       "      <td>26.720</td>\n",
       "      <td>26.720</td>\n",
       "      <td>0.00</td>\n",
       "      <td>18.37</td>\n",
       "      <td>...</td>\n",
       "      <td>0.00</td>\n",
       "      <td>0.00</td>\n",
       "      <td>0.00</td>\n",
       "      <td>0.00</td>\n",
       "      <td>0.00</td>\n",
       "      <td>0.00</td>\n",
       "      <td>0.00</td>\n",
       "      <td>0</td>\n",
       "      <td>0.00</td>\n",
       "      <td>0.00</td>\n",
       "    </tr>\n",
       "    <tr>\n",
       "      <th>916</th>\n",
       "      <td>20</td>\n",
       "      <td>57</td>\n",
       "      <td>20057</td>\n",
       "      <td>2010</td>\n",
       "      <td>33.848</td>\n",
       "      <td>NaN</td>\n",
       "      <td>NaN</td>\n",
       "      <td>28.084</td>\n",
       "      <td>6.94</td>\n",
       "      <td>0.00</td>\n",
       "      <td>...</td>\n",
       "      <td>0.88</td>\n",
       "      <td>335.94</td>\n",
       "      <td>0.00</td>\n",
       "      <td>0.00</td>\n",
       "      <td>0.00</td>\n",
       "      <td>0.00</td>\n",
       "      <td>0.88</td>\n",
       "      <td>0</td>\n",
       "      <td>0.88</td>\n",
       "      <td>335.94</td>\n",
       "    </tr>\n",
       "    <tr>\n",
       "      <th>866</th>\n",
       "      <td>19</td>\n",
       "      <td>155</td>\n",
       "      <td>19155</td>\n",
       "      <td>2010</td>\n",
       "      <td>93.158</td>\n",
       "      <td>NaN</td>\n",
       "      <td>NaN</td>\n",
       "      <td>73.628</td>\n",
       "      <td>14.57</td>\n",
       "      <td>0.00</td>\n",
       "      <td>...</td>\n",
       "      <td>549.39</td>\n",
       "      <td>12095.62</td>\n",
       "      <td>9.39</td>\n",
       "      <td>540.00</td>\n",
       "      <td>549.39</td>\n",
       "      <td>12095.62</td>\n",
       "      <td>0.00</td>\n",
       "      <td>0</td>\n",
       "      <td>0.00</td>\n",
       "      <td>0.00</td>\n",
       "    </tr>\n",
       "    <tr>\n",
       "      <th>2541</th>\n",
       "      <td>48</td>\n",
       "      <td>37</td>\n",
       "      <td>48037</td>\n",
       "      <td>2010</td>\n",
       "      <td>92.565</td>\n",
       "      <td>NaN</td>\n",
       "      <td>NaN</td>\n",
       "      <td>74.870</td>\n",
       "      <td>0.08</td>\n",
       "      <td>4.87</td>\n",
       "      <td>...</td>\n",
       "      <td>0.00</td>\n",
       "      <td>0.00</td>\n",
       "      <td>0.00</td>\n",
       "      <td>0.00</td>\n",
       "      <td>0.00</td>\n",
       "      <td>0.00</td>\n",
       "      <td>0.00</td>\n",
       "      <td>0</td>\n",
       "      <td>0.00</td>\n",
       "      <td>0.00</td>\n",
       "    </tr>\n",
       "    <tr>\n",
       "      <th>2497</th>\n",
       "      <td>47</td>\n",
       "      <td>139</td>\n",
       "      <td>47139</td>\n",
       "      <td>2010</td>\n",
       "      <td>16.825</td>\n",
       "      <td>NaN</td>\n",
       "      <td>NaN</td>\n",
       "      <td>7.518</td>\n",
       "      <td>1.01</td>\n",
       "      <td>0.28</td>\n",
       "      <td>...</td>\n",
       "      <td>0.00</td>\n",
       "      <td>0.00</td>\n",
       "      <td>0.00</td>\n",
       "      <td>0.00</td>\n",
       "      <td>0.00</td>\n",
       "      <td>0.00</td>\n",
       "      <td>0.00</td>\n",
       "      <td>0</td>\n",
       "      <td>0.00</td>\n",
       "      <td>0.00</td>\n",
       "    </tr>\n",
       "    <tr>\n",
       "      <th>291</th>\n",
       "      <td>8</td>\n",
       "      <td>93</td>\n",
       "      <td>8093</td>\n",
       "      <td>2010</td>\n",
       "      <td>16.206</td>\n",
       "      <td>1.543</td>\n",
       "      <td>0.660</td>\n",
       "      <td>2.203</td>\n",
       "      <td>0.22</td>\n",
       "      <td>0.12</td>\n",
       "      <td>...</td>\n",
       "      <td>0.00</td>\n",
       "      <td>0.00</td>\n",
       "      <td>0.00</td>\n",
       "      <td>0.00</td>\n",
       "      <td>0.00</td>\n",
       "      <td>0.00</td>\n",
       "      <td>0.00</td>\n",
       "      <td>0</td>\n",
       "      <td>0.00</td>\n",
       "      <td>0.00</td>\n",
       "    </tr>\n",
       "    <tr>\n",
       "      <th>2936</th>\n",
       "      <td>51</td>\n",
       "      <td>685</td>\n",
       "      <td>51685</td>\n",
       "      <td>2010</td>\n",
       "      <td>14.273</td>\n",
       "      <td>0.000</td>\n",
       "      <td>14.050</td>\n",
       "      <td>14.050</td>\n",
       "      <td>0.00</td>\n",
       "      <td>0.00</td>\n",
       "      <td>...</td>\n",
       "      <td>0.00</td>\n",
       "      <td>0.00</td>\n",
       "      <td>0.00</td>\n",
       "      <td>0.00</td>\n",
       "      <td>0.00</td>\n",
       "      <td>0.00</td>\n",
       "      <td>0.00</td>\n",
       "      <td>0</td>\n",
       "      <td>0.00</td>\n",
       "      <td>0.00</td>\n",
       "    </tr>\n",
       "    <tr>\n",
       "      <th>701</th>\n",
       "      <td>18</td>\n",
       "      <td>9</td>\n",
       "      <td>18009</td>\n",
       "      <td>2010</td>\n",
       "      <td>12.766</td>\n",
       "      <td>NaN</td>\n",
       "      <td>NaN</td>\n",
       "      <td>8.745</td>\n",
       "      <td>0.87</td>\n",
       "      <td>0.00</td>\n",
       "      <td>...</td>\n",
       "      <td>0.00</td>\n",
       "      <td>0.00</td>\n",
       "      <td>0.00</td>\n",
       "      <td>0.00</td>\n",
       "      <td>0.00</td>\n",
       "      <td>0.00</td>\n",
       "      <td>0.00</td>\n",
       "      <td>0</td>\n",
       "      <td>0.00</td>\n",
       "      <td>0.00</td>\n",
       "    </tr>\n",
       "    <tr>\n",
       "      <th>474</th>\n",
       "      <td>13</td>\n",
       "      <td>177</td>\n",
       "      <td>13177</td>\n",
       "      <td>2010</td>\n",
       "      <td>28.298</td>\n",
       "      <td>17.920</td>\n",
       "      <td>0.000</td>\n",
       "      <td>17.920</td>\n",
       "      <td>1.98</td>\n",
       "      <td>0.00</td>\n",
       "      <td>...</td>\n",
       "      <td>0.00</td>\n",
       "      <td>0.00</td>\n",
       "      <td>0.00</td>\n",
       "      <td>0.00</td>\n",
       "      <td>0.00</td>\n",
       "      <td>0.00</td>\n",
       "      <td>0.00</td>\n",
       "      <td>0</td>\n",
       "      <td>0.00</td>\n",
       "      <td>0.00</td>\n",
       "    </tr>\n",
       "    <tr>\n",
       "      <th>542</th>\n",
       "      <td>13</td>\n",
       "      <td>315</td>\n",
       "      <td>13315</td>\n",
       "      <td>2010</td>\n",
       "      <td>9.255</td>\n",
       "      <td>3.190</td>\n",
       "      <td>0.000</td>\n",
       "      <td>3.190</td>\n",
       "      <td>0.27</td>\n",
       "      <td>0.00</td>\n",
       "      <td>...</td>\n",
       "      <td>0.00</td>\n",
       "      <td>0.00</td>\n",
       "      <td>0.00</td>\n",
       "      <td>0.00</td>\n",
       "      <td>0.00</td>\n",
       "      <td>0.00</td>\n",
       "      <td>0.00</td>\n",
       "      <td>0</td>\n",
       "      <td>0.00</td>\n",
       "      <td>0.00</td>\n",
       "    </tr>\n",
       "    <tr>\n",
       "      <th>1984</th>\n",
       "      <td>37</td>\n",
       "      <td>189</td>\n",
       "      <td>37189</td>\n",
       "      <td>2010</td>\n",
       "      <td>51.079</td>\n",
       "      <td>4.624</td>\n",
       "      <td>27.806</td>\n",
       "      <td>32.430</td>\n",
       "      <td>0.47</td>\n",
       "      <td>2.82</td>\n",
       "      <td>...</td>\n",
       "      <td>0.00</td>\n",
       "      <td>0.00</td>\n",
       "      <td>0.00</td>\n",
       "      <td>0.00</td>\n",
       "      <td>0.00</td>\n",
       "      <td>0.00</td>\n",
       "      <td>0.00</td>\n",
       "      <td>0</td>\n",
       "      <td>0.00</td>\n",
       "      <td>0.00</td>\n",
       "    </tr>\n",
       "    <tr>\n",
       "      <th>472</th>\n",
       "      <td>13</td>\n",
       "      <td>173</td>\n",
       "      <td>13173</td>\n",
       "      <td>2010</td>\n",
       "      <td>10.078</td>\n",
       "      <td>4.360</td>\n",
       "      <td>0.000</td>\n",
       "      <td>4.360</td>\n",
       "      <td>0.54</td>\n",
       "      <td>0.00</td>\n",
       "      <td>...</td>\n",
       "      <td>0.00</td>\n",
       "      <td>0.00</td>\n",
       "      <td>0.00</td>\n",
       "      <td>0.00</td>\n",
       "      <td>0.00</td>\n",
       "      <td>0.00</td>\n",
       "      <td>0.00</td>\n",
       "      <td>0</td>\n",
       "      <td>0.00</td>\n",
       "      <td>0.00</td>\n",
       "    </tr>\n",
       "    <tr>\n",
       "      <th>2779</th>\n",
       "      <td>49</td>\n",
       "      <td>5</td>\n",
       "      <td>49005</td>\n",
       "      <td>2010</td>\n",
       "      <td>112.656</td>\n",
       "      <td>NaN</td>\n",
       "      <td>NaN</td>\n",
       "      <td>107.580</td>\n",
       "      <td>33.11</td>\n",
       "      <td>0.36</td>\n",
       "      <td>...</td>\n",
       "      <td>0.00</td>\n",
       "      <td>0.00</td>\n",
       "      <td>0.00</td>\n",
       "      <td>0.00</td>\n",
       "      <td>0.00</td>\n",
       "      <td>0.00</td>\n",
       "      <td>0.00</td>\n",
       "      <td>0</td>\n",
       "      <td>0.00</td>\n",
       "      <td>0.00</td>\n",
       "    </tr>\n",
       "    <tr>\n",
       "      <th>1105</th>\n",
       "      <td>21</td>\n",
       "      <td>225</td>\n",
       "      <td>21225</td>\n",
       "      <td>2010</td>\n",
       "      <td>15.007</td>\n",
       "      <td>NaN</td>\n",
       "      <td>NaN</td>\n",
       "      <td>14.257</td>\n",
       "      <td>0.00</td>\n",
       "      <td>2.18</td>\n",
       "      <td>...</td>\n",
       "      <td>0.00</td>\n",
       "      <td>0.00</td>\n",
       "      <td>0.00</td>\n",
       "      <td>0.00</td>\n",
       "      <td>0.00</td>\n",
       "      <td>0.00</td>\n",
       "      <td>0.00</td>\n",
       "      <td>0</td>\n",
       "      <td>0.00</td>\n",
       "      <td>0.00</td>\n",
       "    </tr>\n",
       "  </tbody>\n",
       "</table>\n",
       "<p>3224 rows × 64 columns</p>\n",
       "</div>"
      ],
      "text/plain": [
       "      STATEFIPS  COUNTYFIPS   FIPS  YEAR  TP-TotPop  PS-GWPop  PS-SWPop  \\\n",
       "2095         39         105  39105  2010     23.770    22.470     0.000   \n",
       "2530         48          15  48015  2010     28.417       NaN       NaN   \n",
       "3203         72         119  72119  2010     54.304     0.000    54.304   \n",
       "2238         41          61  41061  2010     25.748    18.796     0.000   \n",
       "1796         35           3  35003  2010      3.725       NaN       NaN   \n",
       "1085         21         185  21185  2010     60.316       NaN       NaN   \n",
       "718          18          43  18043  2010     74.578       NaN       NaN   \n",
       "2891         51         149  51149  2010     35.725     4.467    28.780   \n",
       "767          18         141  18141  2010    266.931       NaN       NaN   \n",
       "1332         27          37  27037  2010    398.552   330.550    57.950   \n",
       "224           6          77   6077  2010    685.306   189.290   426.760   \n",
       "148           5          75   5075  2010     17.415    17.415     0.000   \n",
       "2311         44           1  44001  2010     49.875     0.223    49.302   \n",
       "2756         48         467  48467  2010     52.579       NaN       NaN   \n",
       "1037         21          89  21089  2010     36.910       NaN       NaN   \n",
       "1204         24          25  24025  2010    244.826    30.950   135.210   \n",
       "1774         34           1  34001  2010    274.549   201.002     5.669   \n",
       "1066         21         147  21147  2010     18.306       NaN       NaN   \n",
       "1687         31          67  31067  2010     22.311       NaN       NaN   \n",
       "2844         51          49  51049  2010     10.052     2.002     0.000   \n",
       "2125         39         165  39165  2010    212.693   168.566    11.230   \n",
       "3062         55          29  55029  2010     27.785    10.309     0.000   \n",
       "1753         32          13  32013  2010     16.528       NaN       NaN   \n",
       "334          12          31  12031  2010    864.263   821.050     0.000   \n",
       "1613         30          31  30031  2010     89.513       NaN       NaN   \n",
       "308           9           1   9001  2010    916.829       NaN       NaN   \n",
       "451          13         131  13131  2010     25.011    11.130     0.000   \n",
       "1535         29         105  29105  2010     35.571       NaN       NaN   \n",
       "635          17          81  17081  2010     38.827     0.000    35.270   \n",
       "2740         48         435  48435  2010      4.128       NaN       NaN   \n",
       "...         ...         ...    ...   ...        ...       ...       ...   \n",
       "1918         37          57  37057  2010    162.878     0.000   114.015   \n",
       "694          17         199  17199  2010     66.357     0.000    43.830   \n",
       "2206         40         151  40151  2010      8.880     7.580     0.000   \n",
       "2504         47         153  47153  2010     14.112       NaN       NaN   \n",
       "2011         38          43  38043  2010      2.435       NaN       NaN   \n",
       "1055         21         125  21125  2010     58.849       NaN       NaN   \n",
       "861          19         145  19145  2010     15.932       NaN       NaN   \n",
       "2454         47          53  47053  2010     49.683       NaN       NaN   \n",
       "543          13         317  13317  2010     10.593     0.750     4.860   \n",
       "1168         22         111  22111  2010     22.721    20.319     0.000   \n",
       "10            1          21   1021  2010     43.643       NaN       NaN   \n",
       "2919         51         540  51540  2010     43.475     0.000    41.487   \n",
       "2268         42          49  42049  2010    280.566    55.880   142.700   \n",
       "2451         47          47  47047  2010     38.413       NaN       NaN   \n",
       "446          13         121  13121  2010    920.581     0.000   870.810   \n",
       "2620         48         195  48195  2010      5.613       NaN       NaN   \n",
       "3195         72         103  72103  2010     26.720     0.000    26.720   \n",
       "916          20          57  20057  2010     33.848       NaN       NaN   \n",
       "866          19         155  19155  2010     93.158       NaN       NaN   \n",
       "2541         48          37  48037  2010     92.565       NaN       NaN   \n",
       "2497         47         139  47139  2010     16.825       NaN       NaN   \n",
       "291           8          93   8093  2010     16.206     1.543     0.660   \n",
       "2936         51         685  51685  2010     14.273     0.000    14.050   \n",
       "701          18           9  18009  2010     12.766       NaN       NaN   \n",
       "474          13         177  13177  2010     28.298    17.920     0.000   \n",
       "542          13         315  13315  2010      9.255     3.190     0.000   \n",
       "1984         37         189  37189  2010     51.079     4.624    27.806   \n",
       "472          13         173  13173  2010     10.078     4.360     0.000   \n",
       "2779         49           5  49005  2010    112.656       NaN       NaN   \n",
       "1105         21         225  21225  2010     15.007       NaN       NaN   \n",
       "\n",
       "      PS-TOPop  PS-WGWFr  PS-WSWFr    ...     PT-WFrTo  PT-Power  PO-WGWFr  \\\n",
       "2095    22.470      1.87      0.00    ...         0.00      0.00      0.00   \n",
       "2530    12.962      0.10      0.00    ...         0.00      0.00      0.00   \n",
       "3203    54.304      0.00     13.98    ...         0.00      0.00      0.00   \n",
       "2238    18.796      4.16      0.00    ...         0.00      0.00      0.00   \n",
       "1796     1.667      0.14      0.04    ...         0.00      0.00      0.00   \n",
       "1085    24.947      4.22      0.00    ...         0.00      0.00      0.00   \n",
       "718     71.819      1.25      0.00    ...       252.76   2296.11      0.02   \n",
       "2891    33.247      0.30      0.00    ...         0.00      0.00      0.00   \n",
       "767    190.589     22.32      0.00    ...         0.00      0.00      0.00   \n",
       "1332   388.500     37.54      3.71    ...       260.00   1331.56      0.00   \n",
       "224    616.050     43.63     71.18    ...         1.53    475.05      0.00   \n",
       "148     17.415      1.15      0.00    ...         0.00      0.00      0.00   \n",
       "2311    49.525      0.00      0.89    ...         0.00      0.00      0.00   \n",
       "2756    36.308      1.99      2.56    ...         0.00      0.00      0.00   \n",
       "1037    35.064      0.60      2.91    ...         0.00      0.00      0.00   \n",
       "1204   166.160      5.00      5.90    ...         0.01     69.00      0.01   \n",
       "1774   206.671     32.19      3.00    ...         0.00      0.00      0.00   \n",
       "1066    15.954      0.00      1.89    ...         0.00      0.00      0.00   \n",
       "1687    17.440      4.58      0.00    ...         0.07     25.50      0.00   \n",
       "2844     2.002      0.01      0.00    ...         0.00      0.00      0.00   \n",
       "2125   179.796     16.75      1.59    ...         0.00      0.00      0.00   \n",
       "3062    10.309      1.53      0.00    ...         0.00      0.00      0.00   \n",
       "1753    11.674      3.71      0.00    ...         7.08   2863.72      0.00   \n",
       "334    821.050    122.14      0.00    ...         6.97  18663.00      0.34   \n",
       "1613    65.796      5.54      7.35    ...         0.00      0.00      0.00   \n",
       "308    709.770     87.81    131.18    ...         0.00   2456.27      0.00   \n",
       "451     11.130      1.69      0.00    ...         0.00      0.00      0.00   \n",
       "1535    27.002      4.18      0.00    ...         0.00      0.00      0.00   \n",
       "635     35.270      0.00      0.00    ...         0.00      0.00      0.00   \n",
       "2740     3.008      0.71      0.00    ...         0.00      0.00      0.00   \n",
       "...        ...       ...       ...    ...          ...       ...       ...   \n",
       "1918   114.015      0.00     18.37    ...         0.00      0.00      0.00   \n",
       "694     43.830      0.12      1.45    ...       209.50   1805.43      0.00   \n",
       "2206     7.580      1.88      0.00    ...         0.00      0.00      0.00   \n",
       "2504     8.527      0.00      0.73    ...         0.00      0.00      0.00   \n",
       "2011     2.014      0.09      0.00    ...         0.00      0.00      0.00   \n",
       "1055    55.907      0.00      9.10    ...         0.00      0.00      0.00   \n",
       "861     12.481      0.88      0.86    ...         0.00      0.00      0.00   \n",
       "2454    39.774      5.25      0.00    ...         0.00      0.00      0.00   \n",
       "543      5.610      0.06      0.97    ...         0.00      0.00      0.00   \n",
       "1168    20.319      3.55      0.00    ...         0.00      0.00      0.00   \n",
       "10      34.330      3.06      1.83    ...         0.00      0.00      0.00   \n",
       "2919    41.487      0.00      0.00    ...         0.00      0.00      0.00   \n",
       "2268   198.580      3.77     28.30    ...         0.00      0.00      0.00   \n",
       "2451    15.738      2.00      0.00    ...         0.00      0.00      0.00   \n",
       "446    870.810      0.00    200.70    ...         0.00      0.00      0.00   \n",
       "2620     4.653      0.87      0.00    ...         0.00      0.00      0.00   \n",
       "3195    26.720      0.00     18.37    ...         0.00      0.00      0.00   \n",
       "916     28.084      6.94      0.00    ...         0.88    335.94      0.00   \n",
       "866     73.628     14.57      0.00    ...       549.39  12095.62      9.39   \n",
       "2541    74.870      0.08      4.87    ...         0.00      0.00      0.00   \n",
       "2497     7.518      1.01      0.28    ...         0.00      0.00      0.00   \n",
       "291      2.203      0.22      0.12    ...         0.00      0.00      0.00   \n",
       "2936    14.050      0.00      0.00    ...         0.00      0.00      0.00   \n",
       "701      8.745      0.87      0.00    ...         0.00      0.00      0.00   \n",
       "474     17.920      1.98      0.00    ...         0.00      0.00      0.00   \n",
       "542      3.190      0.27      0.00    ...         0.00      0.00      0.00   \n",
       "1984    32.430      0.47      2.82    ...         0.00      0.00      0.00   \n",
       "472      4.360      0.54      0.00    ...         0.00      0.00      0.00   \n",
       "2779   107.580     33.11      0.36    ...         0.00      0.00      0.00   \n",
       "1105    14.257      0.00      2.18    ...         0.00      0.00      0.00   \n",
       "\n",
       "      PO-WSWFr  PO-WFrTo  PO-Power  PC-WGWFr  PC-WSWFr  PC-WFrTo  PC-Power  \n",
       "2095      0.00      0.00      0.00      0.00         0      0.00      0.00  \n",
       "2530      0.00      0.00      0.00      0.00         0      0.00      0.00  \n",
       "3203      0.00      0.00      0.00      0.00         0      0.00      0.00  \n",
       "2238      0.00      0.00      0.00      0.00         0      0.00      0.00  \n",
       "1796      0.00      0.00      0.00      0.00         0      0.00      0.00  \n",
       "1085      0.00      0.00      0.00      0.00         0      0.00      0.00  \n",
       "718     252.74    252.76   2296.11      0.00         0      0.00      0.00  \n",
       "2891      0.00      0.00      0.00      0.00         0      0.00      0.00  \n",
       "767       0.00      0.00      0.00      0.00         0      0.00      0.00  \n",
       "1332    260.00    260.00   1331.56      0.00         0      0.00      0.00  \n",
       "224       0.00      0.00      0.00      1.53         0      1.53    475.05  \n",
       "148       0.00      0.00      0.00      0.00         0      0.00      0.00  \n",
       "2311      0.00      0.00      0.00      0.00         0      0.00      0.00  \n",
       "2756      0.00      0.00      0.00      0.00         0      0.00      0.00  \n",
       "1037      0.00      0.00      0.00      0.00         0      0.00      0.00  \n",
       "1204      0.00      0.01     69.00      0.00         0      0.00      0.00  \n",
       "1774      0.00      0.00      0.00      0.00         0      0.00      0.00  \n",
       "1066      0.00      0.00      0.00      0.00         0      0.00      0.00  \n",
       "1687      0.00      0.00      0.00      0.07         0      0.07     25.50  \n",
       "2844      0.00      0.00      0.00      0.00         0      0.00      0.00  \n",
       "2125      0.00      0.00      0.00      0.00         0      0.00      0.00  \n",
       "3062      0.00      0.00      0.00      0.00         0      0.00      0.00  \n",
       "1753      0.00      0.00      0.00      7.08         0      7.08   2863.72  \n",
       "334       0.00      0.34   4726.90      6.63         0      6.63  13936.10  \n",
       "1613      0.00      0.00      0.00      0.00         0      0.00      0.00  \n",
       "308       0.00      0.00   2456.27      0.00         0      0.00      0.00  \n",
       "451       0.00      0.00      0.00      0.00         0      0.00      0.00  \n",
       "1535      0.00      0.00      0.00      0.00         0      0.00      0.00  \n",
       "635       0.00      0.00      0.00      0.00         0      0.00      0.00  \n",
       "2740      0.00      0.00      0.00      0.00         0      0.00      0.00  \n",
       "...        ...       ...       ...       ...       ...       ...       ...  \n",
       "1918      0.00      0.00      0.00      0.00         0      0.00      0.00  \n",
       "694     209.50    209.50   1805.43      0.00         0      0.00      0.00  \n",
       "2206      0.00      0.00      0.00      0.00         0      0.00      0.00  \n",
       "2504      0.00      0.00      0.00      0.00         0      0.00      0.00  \n",
       "2011      0.00      0.00      0.00      0.00         0      0.00      0.00  \n",
       "1055      0.00      0.00      0.00      0.00         0      0.00      0.00  \n",
       "861       0.00      0.00      0.00      0.00         0      0.00      0.00  \n",
       "2454      0.00      0.00      0.00      0.00         0      0.00      0.00  \n",
       "543       0.00      0.00      0.00      0.00         0      0.00      0.00  \n",
       "1168      0.00      0.00      0.00      0.00         0      0.00      0.00  \n",
       "10        0.00      0.00      0.00      0.00         0      0.00      0.00  \n",
       "2919      0.00      0.00      0.00      0.00         0      0.00      0.00  \n",
       "2268      0.00      0.00      0.00      0.00         0      0.00      0.00  \n",
       "2451      0.00      0.00      0.00      0.00         0      0.00      0.00  \n",
       "446       0.00      0.00      0.00      0.00         0      0.00      0.00  \n",
       "2620      0.00      0.00      0.00      0.00         0      0.00      0.00  \n",
       "3195      0.00      0.00      0.00      0.00         0      0.00      0.00  \n",
       "916       0.00      0.00      0.00      0.88         0      0.88    335.94  \n",
       "866     540.00    549.39  12095.62      0.00         0      0.00      0.00  \n",
       "2541      0.00      0.00      0.00      0.00         0      0.00      0.00  \n",
       "2497      0.00      0.00      0.00      0.00         0      0.00      0.00  \n",
       "291       0.00      0.00      0.00      0.00         0      0.00      0.00  \n",
       "2936      0.00      0.00      0.00      0.00         0      0.00      0.00  \n",
       "701       0.00      0.00      0.00      0.00         0      0.00      0.00  \n",
       "474       0.00      0.00      0.00      0.00         0      0.00      0.00  \n",
       "542       0.00      0.00      0.00      0.00         0      0.00      0.00  \n",
       "1984      0.00      0.00      0.00      0.00         0      0.00      0.00  \n",
       "472       0.00      0.00      0.00      0.00         0      0.00      0.00  \n",
       "2779      0.00      0.00      0.00      0.00         0      0.00      0.00  \n",
       "1105      0.00      0.00      0.00      0.00         0      0.00      0.00  \n",
       "\n",
       "[3224 rows x 64 columns]"
      ]
     },
     "execution_count": 6,
     "metadata": {},
     "output_type": "execute_result"
    }
   ],
   "source": [
    "df"
   ]
  },
  {
   "cell_type": "markdown",
   "metadata": {},
   "source": [
    "Most null values should be replaced with 0"
   ]
  },
  {
   "cell_type": "code",
   "execution_count": 7,
   "metadata": {
    "collapsed": true
   },
   "outputs": [],
   "source": [
    "df = df.fillna(0)"
   ]
  },
  {
   "cell_type": "code",
   "execution_count": 8,
   "metadata": {
    "collapsed": true
   },
   "outputs": [],
   "source": [
    "np.random.seed(100)\n",
    "X_train, X_test, y_train, y_test = train_test_split(df, y, test_size=.20)"
   ]
  },
  {
   "cell_type": "code",
   "execution_count": 9,
   "metadata": {
    "collapsed": false
   },
   "outputs": [
    {
     "data": {
      "text/plain": [
       "RandomForestClassifier(bootstrap=True, class_weight=None, criterion='gini',\n",
       "            max_depth=None, max_features='auto', max_leaf_nodes=None,\n",
       "            min_samples_leaf=1, min_samples_split=2,\n",
       "            min_weight_fraction_leaf=0.0, n_estimators=15, n_jobs=1,\n",
       "            oob_score=False, random_state=None, verbose=0,\n",
       "            warm_start=False)"
      ]
     },
     "execution_count": 9,
     "metadata": {},
     "output_type": "execute_result"
    }
   ],
   "source": [
    "clf = RandomForestClassifier(n_estimators= 15) \n",
    "clf.fit(df,y) "
   ]
  },
  {
   "cell_type": "markdown",
   "metadata": {},
   "source": [
    "Sort features by importance"
   ]
  },
  {
   "cell_type": "code",
   "execution_count": 10,
   "metadata": {
    "collapsed": true
   },
   "outputs": [],
   "source": [
    "imp = clf.feature_importances_ \n",
    "names = df.columns \n",
    "imp, names = zip(*sorted(zip(imp, names))) "
   ]
  },
  {
   "cell_type": "code",
   "execution_count": 11,
   "metadata": {
    "collapsed": true
   },
   "outputs": [],
   "source": [
    "rf = pd.Series(imp, index = names)\n",
    "rf1 = rf.copy()"
   ]
  },
  {
   "cell_type": "code",
   "execution_count": 12,
   "metadata": {
    "collapsed": false,
    "scrolled": true
   },
   "outputs": [
    {
     "data": {
      "text/plain": [
       "(64L,)"
      ]
     },
     "execution_count": 12,
     "metadata": {},
     "output_type": "execute_result"
    }
   ],
   "source": [
    "rf.shape"
   ]
  },
  {
   "cell_type": "markdown",
   "metadata": {},
   "source": [
    "Reduce list to 10 most important features"
   ]
  },
  {
   "cell_type": "code",
   "execution_count": 13,
   "metadata": {
    "collapsed": false
   },
   "outputs": [],
   "source": [
    "rf.drop(rf.head(54).index, inplace=True)"
   ]
  },
  {
   "cell_type": "code",
   "execution_count": 14,
   "metadata": {
    "collapsed": false
   },
   "outputs": [
    {
     "data": {
      "text/plain": [
       "<matplotlib.axes._subplots.AxesSubplot at 0x1f04f320>"
      ]
     },
     "execution_count": 14,
     "metadata": {},
     "output_type": "execute_result"
    },
    {
     "data": {
      "image/png": "[encoded data removed]",
      "text/plain": [
       "<matplotlib.figure.Figure at 0x3cfa0f0>"
      ]
     },
     "metadata": {},
     "output_type": "display_data"
    }
   ],
   "source": [
    "rf.plot(kind=\"barh\", figsize=(10,4))"
   ]
  },
  {
   "cell_type": "markdown",
   "metadata": {},
   "source": [
    "Since the displayed features contain redundancies from the Public Supply/Domestic category, we need to reduce the\n",
    "features being assessed to the most important from each industry"
   ]
  },
  {
   "cell_type": "code",
   "execution_count": 15,
   "metadata": {
    "collapsed": false
   },
   "outputs": [
    {
     "name": "stdout",
     "output_type": "stream",
     "text": [
      "height has been deprecated.\n",
      "\n"
     ]
    }
   ],
   "source": [
    "pd.set_option('display.height', 120)\n",
    "pd.set_option('display.max_rows', 120)"
   ]
  },
  {
   "cell_type": "code",
   "execution_count": 16,
   "metadata": {
    "collapsed": false
   },
   "outputs": [
    {
     "data": {
      "text/plain": [
       "YEAR          0.000000\n",
       "IG-IrSur      0.000165\n",
       "IG-IrMic      0.000972\n",
       "PO-WGWFr      0.002859\n",
       "PC-WGWFr      0.003936\n",
       "PO-WSWFr      0.004105\n",
       "PO-WFrTo      0.004361\n",
       "PT-WGWFr      0.004761\n",
       "PC-WSWFr      0.004784\n",
       "PO-Power      0.005410\n",
       "PC-WFrTo      0.005559\n",
       "PT-WSWFr      0.005781\n",
       "PC-Power      0.006069\n",
       "PT-WFrTo      0.006599\n",
       "DO-WSWFr      0.006647\n",
       "PT-Power      0.007509\n",
       "IC-IrSur      0.007620\n",
       "IC-IrMic      0.009801\n",
       "IG-WGWFr      0.009806\n",
       "IC-WSWFr      0.010228\n",
       "IG-WSWFr      0.011210\n",
       "IN-WSWFr      0.011523\n",
       "IG-WFrTo      0.012444\n",
       "IG-IrSpr      0.012667\n",
       "IG-IrTot      0.012758\n",
       "IR-IrMic      0.012858\n",
       "IC-WGWFr      0.012930\n",
       "IC-WFrTo      0.012938\n",
       "AQ-WGWFr      0.013134\n",
       "IR-IrSur      0.013184\n",
       "AQ-WFrTo      0.013551\n",
       "PS-SWPop      0.013653\n",
       "IC-IrSpr      0.013860\n",
       "AQ-WSWFr      0.014093\n",
       "IC-IrTot      0.014645\n",
       "IN-WFrTo      0.016603\n",
       "PS-GWPop      0.016647\n",
       "STATEFIPS     0.016976\n",
       "MI-WGWFr      0.017060\n",
       "IN-WGWFr      0.017121\n",
       "MI-WSWFr      0.017843\n",
       "PS-WSWFr      0.018441\n",
       "IR-WSWFr      0.020134\n",
       "MI-WFrTo      0.020904\n",
       "IR-WGWFr      0.021866\n",
       "DO-WFrTo      0.022852\n",
       "IR-WFrTo      0.023810\n",
       "DO-WGWFr      0.023813\n",
       "DO-SSPCp      0.024244\n",
       "PS-WGWFr      0.025391\n",
       "LI-WSWFr      0.026146\n",
       "IR-IrSpr      0.026162\n",
       "DO-PSPCp      0.026375\n",
       "LI-WGWFr      0.026517\n",
       "PS-TOPop      0.026762\n",
       "IR-IrTot      0.027012\n",
       "DO-SSPop      0.027047\n",
       "DO-TOTAL      0.027587\n",
       "LI-WFrTo      0.028169\n",
       "TP-TotPop     0.028577\n",
       "DO-PSDel      0.029212\n",
       "COUNTYFIPS    0.030951\n",
       "PS-WFrTo      0.031048\n",
       "FIPS          0.032311\n",
       "dtype: float64"
      ]
     },
     "execution_count": 16,
     "metadata": {},
     "output_type": "execute_result"
    }
   ],
   "source": [
    "rf1"
   ]
  },
  {
   "cell_type": "markdown",
   "metadata": {},
   "source": [
    "From the above list, the most important features of each industry are determined\n",
    "(referencing the data's dictionary at the bottom of this page)"
   ]
  },
  {
   "cell_type": "code",
   "execution_count": 17,
   "metadata": {
    "collapsed": true
   },
   "outputs": [],
   "source": [
    "X = pd.DataFrame()\n",
    "X['Year'] = df['YEAR']\n",
    "X['Thermoelectric_Power_Generated'] = df['PT-Power']\n",
    "X['Aquaculture_Fresh_Withdrawls'] = df['AQ-WFrTo']\n",
    "X['Industrial_Fresh_Withdrawls'] = df['IN-WFrTo']\n",
    "X['Mining_Fresh_Withdrawls'] = df['MI-WFrTo']\n",
    "X['Irrigation_Sprinkler_Acres'] = df['IR-IrSpr']\n",
    "X['Livestock_Fresh_Withdrawls'] = df['LI-WFrTo']\n",
    "X['Total_Population'] = df['TP-TotPop']\n",
    "X['Public_Supply_Fresh_Withdrawls'] = df['PS-WFrTo']\n",
    "X['County_FIPS_Code'] = df['COUNTYFIPS']"
   ]
  },
  {
   "cell_type": "markdown",
   "metadata": {
    "collapsed": true
   },
   "source": [
    "Year (not needed until more data is collected)"
   ]
  },
  {
   "cell_type": "code",
   "execution_count": 18,
   "metadata": {
    "collapsed": false
   },
   "outputs": [
    {
     "data": {
      "text/plain": [
       "<matplotlib.axes._subplots.AxesSubplot at 0x3c99550>"
      ]
     },
     "execution_count": 18,
     "metadata": {},
     "output_type": "execute_result"
    },
    {
     "data": {
      "image/png": "[encoded data removed]",
      "text/plain": [
       "<matplotlib.figure.Figure at 0x1effae48>"
      ]
     },
     "metadata": {},
     "output_type": "display_data"
    }
   ],
   "source": [
    "X.Year.hist(bins=10)"
   ]
  },
  {
   "cell_type": "code",
   "execution_count": 19,
   "metadata": {
    "collapsed": false
   },
   "outputs": [
    {
     "data": {
      "text/plain": [
       "2009.598    3224\n",
       "2011.608       0\n",
       "2011.206       0\n",
       "2010.804       0\n",
       "2010.402       0\n",
       "2010.000       0\n",
       "2009.196       0\n",
       "2008.794       0\n",
       "2008.392       0\n",
       "2007.990       0\n",
       "Name: Year, dtype: int64"
      ]
     },
     "execution_count": 19,
     "metadata": {},
     "output_type": "execute_result"
    }
   ],
   "source": [
    "X.Year.value_counts(bins=10)"
   ]
  },
  {
   "cell_type": "code",
   "execution_count": 20,
   "metadata": {
    "collapsed": false
   },
   "outputs": [
    {
     "data": {
      "text/plain": [
       "count    3224\n",
       "mean     2010\n",
       "std         0\n",
       "min      2010\n",
       "25%      2010\n",
       "50%      2010\n",
       "75%      2010\n",
       "max      2010\n",
       "Name: Year, dtype: float64"
      ]
     },
     "execution_count": 20,
     "metadata": {},
     "output_type": "execute_result"
    }
   ],
   "source": [
    "X.Year.describe()"
   ]
  },
  {
   "cell_type": "markdown",
   "metadata": {},
   "source": [
    "Thermoelectric Power Generated"
   ]
  },
  {
   "cell_type": "code",
   "execution_count": 21,
   "metadata": {
    "collapsed": false
   },
   "outputs": [
    {
     "data": {
      "text/plain": [
       "<matplotlib.axes._subplots.AxesSubplot at 0x1fa45518>"
      ]
     },
     "execution_count": 21,
     "metadata": {},
     "output_type": "execute_result"
    },
    {
     "data": {
      "image/png": "[encoded data removed]",
      "text/plain": [
       "<matplotlib.figure.Figure at 0x1fbc9320>"
      ]
     },
     "metadata": {},
     "output_type": "display_data"
    }
   ],
   "source": [
    "X.Thermoelectric_Power_Generated.hist(bins=10)"
   ]
  },
  {
   "cell_type": "code",
   "execution_count": 22,
   "metadata": {
    "collapsed": false
   },
   "outputs": [
    {
     "data": {
      "text/plain": [
       "-40.66319       2995\n",
       " 4066.31900       95\n",
       " 8132.63800       47\n",
       " 12198.95700      43\n",
       " 16265.27600      25\n",
       " 20331.59500       9\n",
       " 24397.91400       4\n",
       " 28464.23300       3\n",
       " 32530.55200       2\n",
       " 36596.87100       1\n",
       "Name: Thermoelectric_Power_Generated, dtype: int64"
      ]
     },
     "execution_count": 22,
     "metadata": {},
     "output_type": "execute_result"
    }
   ],
   "source": [
    "X.Thermoelectric_Power_Generated.value_counts(bins=10)"
   ]
  },
  {
   "cell_type": "code",
   "execution_count": 23,
   "metadata": {
    "collapsed": false
   },
   "outputs": [
    {
     "data": {
      "text/plain": [
       "count     3224.000000\n",
       "mean       969.519516\n",
       "std       3367.197900\n",
       "min          0.000000\n",
       "25%          0.000000\n",
       "50%          0.000000\n",
       "75%          0.000000\n",
       "max      40663.190000\n",
       "Name: Thermoelectric_Power_Generated, dtype: float64"
      ]
     },
     "execution_count": 23,
     "metadata": {},
     "output_type": "execute_result"
    }
   ],
   "source": [
    "X.Thermoelectric_Power_Generated.describe()"
   ]
  },
  {
   "cell_type": "markdown",
   "metadata": {},
   "source": [
    "Aquaculture Fresh Withdrawls"
   ]
  },
  {
   "cell_type": "code",
   "execution_count": 24,
   "metadata": {
    "collapsed": false
   },
   "outputs": [
    {
     "data": {
      "text/plain": [
       "<matplotlib.axes._subplots.AxesSubplot at 0x1fbf4ef0>"
      ]
     },
     "execution_count": 24,
     "metadata": {},
     "output_type": "execute_result"
    },
    {
     "data": {
      "image/png": "[encoded data removed]",
      "text/plain": [
       "<matplotlib.figure.Figure at 0x20230710>"
      ]
     },
     "metadata": {},
     "output_type": "display_data"
    }
   ],
   "source": [
    "X.Aquaculture_Fresh_Withdrawls.hist(bins=10)"
   ]
  },
  {
   "cell_type": "code",
   "execution_count": 25,
   "metadata": {
    "collapsed": false
   },
   "outputs": [
    {
     "data": {
      "text/plain": [
       "-0.87157      3210\n",
       " 87.15700        6\n",
       " 784.41300       2\n",
       " 522.94200       2\n",
       " 174.31400       2\n",
       " 435.78500       1\n",
       " 261.47100       1\n",
       " 697.25600       0\n",
       " 610.09900       0\n",
       " 348.62800       0\n",
       "Name: Aquaculture_Fresh_Withdrawls, dtype: int64"
      ]
     },
     "execution_count": 25,
     "metadata": {},
     "output_type": "execute_result"
    }
   ],
   "source": [
    "X.Aquaculture_Fresh_Withdrawls.value_counts(bins=10)"
   ]
  },
  {
   "cell_type": "code",
   "execution_count": 26,
   "metadata": {
    "collapsed": false
   },
   "outputs": [
    {
     "data": {
      "text/plain": [
       "count    3224.000000\n",
       "mean        2.918824\n",
       "std        28.800643\n",
       "min         0.000000\n",
       "25%         0.000000\n",
       "50%         0.000000\n",
       "75%         0.142500\n",
       "max       871.570000\n",
       "Name: Aquaculture_Fresh_Withdrawls, dtype: float64"
      ]
     },
     "execution_count": 26,
     "metadata": {},
     "output_type": "execute_result"
    }
   ],
   "source": [
    "X.Aquaculture_Fresh_Withdrawls.describe()"
   ]
  },
  {
   "cell_type": "markdown",
   "metadata": {},
   "source": [
    "Industrial Fresh Withdrawls"
   ]
  },
  {
   "cell_type": "code",
   "execution_count": 27,
   "metadata": {
    "collapsed": false
   },
   "outputs": [
    {
     "data": {
      "text/plain": [
       "<matplotlib.axes._subplots.AxesSubplot at 0x203a6518>"
      ]
     },
     "execution_count": 27,
     "metadata": {},
     "output_type": "execute_result"
    },
    {
     "data": {
      "image/png": "[encoded data removed]",
      "text/plain": [
       "<matplotlib.figure.Figure at 0x204f9630>"
      ]
     },
     "metadata": {},
     "output_type": "display_data"
    }
   ],
   "source": [
    "X.Industrial_Fresh_Withdrawls.hist(bins=10)"
   ]
  },
  {
   "cell_type": "code",
   "execution_count": 28,
   "metadata": {
    "collapsed": false
   },
   "outputs": [
    {
     "data": {
      "text/plain": [
       "-1.12275       3206\n",
       " 112.27500        8\n",
       " 449.10000        3\n",
       " 336.82500        3\n",
       " 224.55000        3\n",
       " 1010.47500       1\n",
       " 898.20000        0\n",
       " 785.92500        0\n",
       " 673.65000        0\n",
       " 561.37500        0\n",
       "Name: Industrial_Fresh_Withdrawls, dtype: int64"
      ]
     },
     "execution_count": 28,
     "metadata": {},
     "output_type": "execute_result"
    }
   ],
   "source": [
    "X.Industrial_Fresh_Withdrawls.value_counts(bins=10)"
   ]
  },
  {
   "cell_type": "code",
   "execution_count": 29,
   "metadata": {
    "collapsed": false
   },
   "outputs": [
    {
     "data": {
      "text/plain": [
       "count    3224.000000\n",
       "mean        4.640602\n",
       "std        31.802091\n",
       "min         0.000000\n",
       "25%         0.000000\n",
       "50%         0.020000\n",
       "75%         0.772500\n",
       "max      1122.750000\n",
       "Name: Industrial_Fresh_Withdrawls, dtype: float64"
      ]
     },
     "execution_count": 29,
     "metadata": {},
     "output_type": "execute_result"
    }
   ],
   "source": [
    "X.Industrial_Fresh_Withdrawls.describe()"
   ]
  },
  {
   "cell_type": "markdown",
   "metadata": {},
   "source": [
    "Mining Fresh Withdrawls"
   ]
  },
  {
   "cell_type": "code",
   "execution_count": 30,
   "metadata": {
    "collapsed": false
   },
   "outputs": [
    {
     "data": {
      "text/plain": [
       "<matplotlib.axes._subplots.AxesSubplot at 0x2060a978>"
      ]
     },
     "execution_count": 30,
     "metadata": {},
     "output_type": "execute_result"
    },
    {
     "data": {
      "image/png": "[encoded data removed]",
      "text/plain": [
       "<matplotlib.figure.Figure at 0x207b2160>"
      ]
     },
     "metadata": {},
     "output_type": "display_data"
    }
   ],
   "source": [
    "X.Mining_Fresh_Withdrawls.hist(bins=10)"
   ]
  },
  {
   "cell_type": "code",
   "execution_count": 31,
   "metadata": {
    "collapsed": false
   },
   "outputs": [
    {
     "data": {
      "text/plain": [
       "-0.1939      3209\n",
       " 19.3900        9\n",
       " 38.7800        2\n",
       " 174.5100       1\n",
       " 116.3400       1\n",
       " 77.5600        1\n",
       " 58.1700        1\n",
       " 155.1200       0\n",
       " 135.7300       0\n",
       " 96.9500        0\n",
       "Name: Mining_Fresh_Withdrawls, dtype: int64"
      ]
     },
     "execution_count": 31,
     "metadata": {},
     "output_type": "execute_result"
    }
   ],
   "source": [
    "X.Mining_Fresh_Withdrawls.value_counts(bins=10)"
   ]
  },
  {
   "cell_type": "code",
   "execution_count": 32,
   "metadata": {
    "collapsed": false
   },
   "outputs": [
    {
     "data": {
      "text/plain": [
       "count    3224.000000\n",
       "mean        0.697438\n",
       "std         4.977676\n",
       "min         0.000000\n",
       "25%         0.000000\n",
       "50%         0.060000\n",
       "75%         0.290000\n",
       "max       193.900000\n",
       "Name: Mining_Fresh_Withdrawls, dtype: float64"
      ]
     },
     "execution_count": 32,
     "metadata": {},
     "output_type": "execute_result"
    }
   ],
   "source": [
    "X.Mining_Fresh_Withdrawls.describe()"
   ]
  },
  {
   "cell_type": "markdown",
   "metadata": {},
   "source": [
    "Irrigation Sprinkler Acres"
   ]
  },
  {
   "cell_type": "code",
   "execution_count": 33,
   "metadata": {
    "collapsed": false
   },
   "outputs": [
    {
     "data": {
      "text/plain": [
       "<matplotlib.axes._subplots.AxesSubplot at 0x1faf20f0>"
      ]
     },
     "execution_count": 33,
     "metadata": {},
     "output_type": "execute_result"
    },
    {
     "data": {
      "image/png": "[encoded data removed]",
      "text/plain": [
       "<matplotlib.figure.Figure at 0x208b9908>"
      ]
     },
     "metadata": {},
     "output_type": "display_data"
    }
   ],
   "source": [
    "X.Irrigation_Sprinkler_Acres.hist(bins=10)"
   ]
  },
  {
   "cell_type": "code",
   "execution_count": 34,
   "metadata": {
    "collapsed": false
   },
   "outputs": [
    {
     "data": {
      "text/plain": [
       "-0.33007      2968\n",
       " 33.00700      118\n",
       " 66.01400       64\n",
       " 99.02100       28\n",
       " 165.03500      18\n",
       " 132.02800      17\n",
       " 198.04200       4\n",
       " 297.06300       3\n",
       " 231.04900       3\n",
       " 264.05600       1\n",
       "Name: Irrigation_Sprinkler_Acres, dtype: int64"
      ]
     },
     "execution_count": 34,
     "metadata": {},
     "output_type": "execute_result"
    }
   ],
   "source": [
    "X.Irrigation_Sprinkler_Acres.value_counts(bins=10)"
   ]
  },
  {
   "cell_type": "code",
   "execution_count": 35,
   "metadata": {
    "collapsed": false
   },
   "outputs": [
    {
     "data": {
      "text/plain": [
       "count    3224.000000\n",
       "mean        9.789501\n",
       "std        28.090590\n",
       "min         0.000000\n",
       "25%         0.150000\n",
       "50%         0.880000\n",
       "75%         4.492500\n",
       "max       330.070000\n",
       "Name: Irrigation_Sprinkler_Acres, dtype: float64"
      ]
     },
     "execution_count": 35,
     "metadata": {},
     "output_type": "execute_result"
    }
   ],
   "source": [
    "X.Irrigation_Sprinkler_Acres.describe()"
   ]
  },
  {
   "cell_type": "markdown",
   "metadata": {},
   "source": [
    "Livestock Fresh Withdrawls"
   ]
  },
  {
   "cell_type": "code",
   "execution_count": 36,
   "metadata": {
    "collapsed": false
   },
   "outputs": [
    {
     "data": {
      "text/plain": [
       "<matplotlib.axes._subplots.AxesSubplot at 0x20b3e240>"
      ]
     },
     "execution_count": 36,
     "metadata": {},
     "output_type": "execute_result"
    },
    {
     "data": {
      "image/png": "[encoded data removed]",
      "text/plain": [
       "<matplotlib.figure.Figure at 0x20c443c8>"
      ]
     },
     "metadata": {},
     "output_type": "display_data"
    }
   ],
   "source": [
    "X.Livestock_Fresh_Withdrawls.hist(bins=10)"
   ]
  },
  {
   "cell_type": "code",
   "execution_count": 37,
   "metadata": {
    "collapsed": false
   },
   "outputs": [
    {
     "data": {
      "text/plain": [
       "-0.04044     3185\n",
       " 4.04400       20\n",
       " 8.08800       14\n",
       " 12.13200       2\n",
       " 36.39600       1\n",
       " 20.22000       1\n",
       " 16.17600       1\n",
       " 32.35200       0\n",
       " 28.30800       0\n",
       " 24.26400       0\n",
       "Name: Livestock_Fresh_Withdrawls, dtype: int64"
      ]
     },
     "execution_count": 37,
     "metadata": {},
     "output_type": "execute_result"
    }
   ],
   "source": [
    "X.Livestock_Fresh_Withdrawls.value_counts(bins=10)"
   ]
  },
  {
   "cell_type": "code",
   "execution_count": 38,
   "metadata": {
    "collapsed": false
   },
   "outputs": [
    {
     "data": {
      "text/plain": [
       "count    3224.000000\n",
       "mean        0.620717\n",
       "std         1.325597\n",
       "min         0.000000\n",
       "25%         0.110000\n",
       "50%         0.315000\n",
       "75%         0.740000\n",
       "max        40.440000\n",
       "Name: Livestock_Fresh_Withdrawls, dtype: float64"
      ]
     },
     "execution_count": 38,
     "metadata": {},
     "output_type": "execute_result"
    }
   ],
   "source": [
    "X.Livestock_Fresh_Withdrawls.describe()"
   ]
  },
  {
   "cell_type": "markdown",
   "metadata": {},
   "source": [
    "Total Population"
   ]
  },
  {
   "cell_type": "code",
   "execution_count": 39,
   "metadata": {
    "collapsed": false
   },
   "outputs": [
    {
     "data": {
      "text/plain": [
       "<matplotlib.axes._subplots.AxesSubplot at 0x20e9a208>"
      ]
     },
     "execution_count": 39,
     "metadata": {},
     "output_type": "execute_result"
    },
    {
     "data": {
      "image/png": "[encoded data removed]",
      "text/plain": [
       "<matplotlib.figure.Figure at 0x20f8b8d0>"
      ]
     },
     "metadata": {},
     "output_type": "display_data"
    }
   ],
   "source": [
    "X.Total_Population.hist(bins=10)"
   ]
  },
  {
   "cell_type": "code",
   "execution_count": 40,
   "metadata": {
    "collapsed": false
   },
   "outputs": [
    {
     "data": {
      "text/plain": [
       "-9.736523       3184\n",
       " 981.934300       28\n",
       " 1963.786600       6\n",
       " 2945.638900       3\n",
       " 8836.752700       1\n",
       " 4909.343500       1\n",
       " 3927.491200       1\n",
       " 7854.900400       0\n",
       " 6873.048100       0\n",
       " 5891.195800       0\n",
       "Name: Total_Population, dtype: int64"
      ]
     },
     "execution_count": 40,
     "metadata": {},
     "output_type": "execute_result"
    }
   ],
   "source": [
    "X.Total_Population.value_counts(bins=10)"
   ]
  },
  {
   "cell_type": "code",
   "execution_count": 41,
   "metadata": {
    "collapsed": false
   },
   "outputs": [
    {
     "data": {
      "text/plain": [
       "count    3224.000000\n",
       "mean       96.953486\n",
       "std       309.162134\n",
       "min         0.082000\n",
       "25%        11.309500\n",
       "50%        26.086500\n",
       "75%        65.750250\n",
       "max      9818.605000\n",
       "Name: Total_Population, dtype: float64"
      ]
     },
     "execution_count": 41,
     "metadata": {},
     "output_type": "execute_result"
    }
   ],
   "source": [
    "X.Total_Population.describe()"
   ]
  },
  {
   "cell_type": "markdown",
   "metadata": {},
   "source": [
    "Public Supply Fresh Withdrawls"
   ]
  },
  {
   "cell_type": "code",
   "execution_count": 42,
   "metadata": {
    "collapsed": false
   },
   "outputs": [
    {
     "data": {
      "text/plain": [
       "<matplotlib.axes._subplots.AxesSubplot at 0x20c7c8d0>"
      ]
     },
     "execution_count": 42,
     "metadata": {},
     "output_type": "execute_result"
    },
    {
     "data": {
      "image/png": "[encoded data removed]",
      "text/plain": [
       "<matplotlib.figure.Figure at 0x2104a160>"
      ]
     },
     "metadata": {},
     "output_type": "display_data"
    }
   ],
   "source": [
    "X.Public_Supply_Fresh_Withdrawls.hist(bins=10)"
   ]
  },
  {
   "cell_type": "code",
   "execution_count": 43,
   "metadata": {
    "collapsed": false
   },
   "outputs": [
    {
     "data": {
      "text/plain": [
       "-1.37153       3169\n",
       " 137.15300       37\n",
       " 411.45900        8\n",
       " 274.30600        6\n",
       " 1234.37700       1\n",
       " 822.91800        1\n",
       " 685.76500        1\n",
       " 548.61200        1\n",
       " 1097.22400       0\n",
       " 960.07100        0\n",
       "Name: Public_Supply_Fresh_Withdrawls, dtype: int64"
      ]
     },
     "execution_count": 43,
     "metadata": {},
     "output_type": "execute_result"
    }
   ],
   "source": [
    "X.Public_Supply_Fresh_Withdrawls.value_counts(bins=10)"
   ]
  },
  {
   "cell_type": "code",
   "execution_count": 44,
   "metadata": {
    "collapsed": false
   },
   "outputs": [
    {
     "data": {
      "text/plain": [
       "count    3224.000000\n",
       "mean       12.933623\n",
       "std        49.525703\n",
       "min         0.000000\n",
       "25%         0.880000\n",
       "50%         2.455000\n",
       "75%         7.245000\n",
       "max      1371.530000\n",
       "Name: Public_Supply_Fresh_Withdrawls, dtype: float64"
      ]
     },
     "execution_count": 44,
     "metadata": {},
     "output_type": "execute_result"
    }
   ],
   "source": [
    "X.Public_Supply_Fresh_Withdrawls.describe()"
   ]
  },
  {
   "cell_type": "markdown",
   "metadata": {},
   "source": [
    "County FIPS Code"
   ]
  },
  {
   "cell_type": "code",
   "execution_count": 45,
   "metadata": {
    "collapsed": false
   },
   "outputs": [
    {
     "data": {
      "text/plain": [
       "<matplotlib.axes._subplots.AxesSubplot at 0x209d6400>"
      ]
     },
     "execution_count": 45,
     "metadata": {},
     "output_type": "execute_result"
    },
    {
     "data": {
      "image/png": "[encoded data removed]",
      "text/plain": [
       "<matplotlib.figure.Figure at 0x2124be80>"
      ]
     },
     "metadata": {},
     "output_type": "display_data"
    }
   ],
   "source": [
    "X.County_FIPS_Code.hist(bins=10)"
   ]
  },
  {
   "cell_type": "code",
   "execution_count": 46,
   "metadata": {
    "collapsed": false
   },
   "outputs": [
    {
     "data": {
      "text/plain": [
       "0.161      952\n",
       "42.950     754\n",
       "84.900     631\n",
       "126.850    399\n",
       "168.800    208\n",
       "210.750     70\n",
       "252.700     47\n",
       "294.650     35\n",
       "336.600     21\n",
       "378.550     21\n",
       "420.500     21\n",
       "462.450     21\n",
       "504.400     10\n",
       "672.200      7\n",
       "588.300      6\n",
       "714.150      5\n",
       "798.050      5\n",
       "756.100      4\n",
       "630.250      4\n",
       "546.350      3\n",
       "Name: County_FIPS_Code, dtype: int64"
      ]
     },
     "execution_count": 46,
     "metadata": {},
     "output_type": "execute_result"
    }
   ],
   "source": [
    "X.County_FIPS_Code.value_counts(bins=20)"
   ]
  },
  {
   "cell_type": "code",
   "execution_count": 47,
   "metadata": {
    "collapsed": false
   },
   "outputs": [
    {
     "data": {
      "text/plain": [
       "count    3224.000000\n",
       "mean      103.010856\n",
       "std       106.940829\n",
       "min         1.000000\n",
       "25%        35.000000\n",
       "50%        79.000000\n",
       "75%       133.000000\n",
       "max       840.000000\n",
       "Name: County_FIPS_Code, dtype: float64"
      ]
     },
     "execution_count": 47,
     "metadata": {},
     "output_type": "execute_result"
    }
   ],
   "source": [
    "X.County_FIPS_Code.describe()"
   ]
  },
  {
   "cell_type": "code",
   "execution_count": 48,
   "metadata": {
    "collapsed": false
   },
   "outputs": [],
   "source": [
    "X_train, X_test, y_train, y_test = train_test_split(X, y2, test_size=.20)"
   ]
  },
  {
   "cell_type": "code",
   "execution_count": 49,
   "metadata": {
    "collapsed": false
   },
   "outputs": [
    {
     "data": {
      "text/plain": [
       "RandomForestClassifier(bootstrap=True, class_weight=None, criterion='gini',\n",
       "            max_depth=None, max_features='auto', max_leaf_nodes=None,\n",
       "            min_samples_leaf=1, min_samples_split=2,\n",
       "            min_weight_fraction_leaf=0.0, n_estimators=15, n_jobs=1,\n",
       "            oob_score=False, random_state=None, verbose=0,\n",
       "            warm_start=False)"
      ]
     },
     "execution_count": 49,
     "metadata": {},
     "output_type": "execute_result"
    }
   ],
   "source": [
    "clf2 = RandomForestClassifier(n_estimators= 15) \n",
    "clf2.fit(X,y2)"
   ]
  },
  {
   "cell_type": "code",
   "execution_count": 50,
   "metadata": {
    "collapsed": true
   },
   "outputs": [],
   "source": [
    "imp2 = clf2.feature_importances_ \n",
    "names2 = X.columns \n",
    "imp2, names2 = zip(*sorted(zip(imp2, names2))) "
   ]
  },
  {
   "cell_type": "code",
   "execution_count": 51,
   "metadata": {
    "collapsed": true
   },
   "outputs": [],
   "source": [
    "rf2 = pd.Series(imp2, index =names2)"
   ]
  },
  {
   "cell_type": "code",
   "execution_count": 52,
   "metadata": {
    "collapsed": false
   },
   "outputs": [
    {
     "data": {
      "text/plain": [
       "(10L,)"
      ]
     },
     "execution_count": 52,
     "metadata": {},
     "output_type": "execute_result"
    }
   ],
   "source": [
    "rf2.shape"
   ]
  },
  {
   "cell_type": "markdown",
   "metadata": {},
   "source": [
    "The attributes which best predict the each industries' effect on total fresh water consumption"
   ]
  },
  {
   "cell_type": "code",
   "execution_count": 53,
   "metadata": {
    "collapsed": false
   },
   "outputs": [
    {
     "data": {
      "text/plain": [
       "<matplotlib.axes._subplots.AxesSubplot at 0x215ec358>"
      ]
     },
     "execution_count": 53,
     "metadata": {},
     "output_type": "execute_result"
    },
    {
     "data": {
      "image/png": "[encoded data removed]",
      "text/plain": [
       "<matplotlib.figure.Figure at 0x212557b8>"
      ]
     },
     "metadata": {},
     "output_type": "display_data"
    }
   ],
   "source": [
    "rf2.plot(kind=\"barh\", figsize=(10,5))"
   ]
  },
  {
   "cell_type": "code",
   "execution_count": 54,
   "metadata": {
    "collapsed": false
   },
   "outputs": [
    {
     "data": {
      "text/plain": [
       "1.0"
      ]
     },
     "execution_count": 54,
     "metadata": {},
     "output_type": "execute_result"
    }
   ],
   "source": [
    "r2_score(y_test, clf2.predict(X_test))"
   ]
  },
  {
   "cell_type": "markdown",
   "metadata": {},
   "source": [
    "The random forrest works quite well, out of curiosity I'll take a look at a regressive model:"
   ]
  },
  {
   "cell_type": "code",
   "execution_count": 55,
   "metadata": {
    "collapsed": false
   },
   "outputs": [],
   "source": [
    "scaler = StandardScaler()\n",
    "X_train = scaler.fit_transform(X_train)\n",
    "X_test = scaler.fit_transform(X_test)"
   ]
  },
  {
   "cell_type": "code",
   "execution_count": 56,
   "metadata": {
    "collapsed": false,
    "scrolled": false
   },
   "outputs": [
    {
     "data": {
      "text/plain": [
       "LinearRegression(copy_X=True, fit_intercept=True, n_jobs=1, normalize=False)"
      ]
     },
     "execution_count": 56,
     "metadata": {},
     "output_type": "execute_result"
    }
   ],
   "source": [
    "clf3 = LinearRegression()\n",
    "clf3.fit(X_train, y_train)"
   ]
  },
  {
   "cell_type": "code",
   "execution_count": 57,
   "metadata": {
    "collapsed": false
   },
   "outputs": [
    {
     "data": {
      "text/plain": [
       "0.50111498656654807"
      ]
     },
     "execution_count": 57,
     "metadata": {},
     "output_type": "execute_result"
    }
   ],
   "source": [
    "clf3.score(X_train, y_train)"
   ]
  },
  {
   "cell_type": "code",
   "execution_count": null,
   "metadata": {
    "collapsed": true
   },
   "outputs": [],
   "source": []
  },
  {
   "cell_type": "markdown",
   "metadata": {
    "collapsed": true
   },
   "source": [
    "Data dictionary:"
   ]
  },
  {
   "cell_type": "code",
   "execution_count": 58,
   "metadata": {
    "collapsed": false
   },
   "outputs": [],
   "source": [
    "df2 = pd.read_csv('data.csv')"
   ]
  },
  {
   "cell_type": "code",
   "execution_count": 59,
   "metadata": {
    "collapsed": false
   },
   "outputs": [
    {
     "data": {
      "text/html": [
       "<div>\n",
       "<table border=\"1\" class=\"dataframe\">\n",
       "  <thead>\n",
       "    <tr style=\"text-align: right;\">\n",
       "      <th></th>\n",
       "      <th>Column Tag</th>\n",
       "      <th>Data Element</th>\n",
       "    </tr>\n",
       "  </thead>\n",
       "  <tbody>\n",
       "    <tr>\n",
       "      <th>0</th>\n",
       "      <td>STATE</td>\n",
       "      <td>State postal abbreviation</td>\n",
       "    </tr>\n",
       "    <tr>\n",
       "      <th>1</th>\n",
       "      <td>STATEFIPS</td>\n",
       "      <td>State FIPS code</td>\n",
       "    </tr>\n",
       "    <tr>\n",
       "      <th>2</th>\n",
       "      <td>COUNTY</td>\n",
       "      <td>County name</td>\n",
       "    </tr>\n",
       "    <tr>\n",
       "      <th>3</th>\n",
       "      <td>COUNTYFIPS</td>\n",
       "      <td>County FIPS code</td>\n",
       "    </tr>\n",
       "    <tr>\n",
       "      <th>4</th>\n",
       "      <td>FIPS</td>\n",
       "      <td>Concatenated State-county FIPS code</td>\n",
       "    </tr>\n",
       "    <tr>\n",
       "      <th>5</th>\n",
       "      <td>YEAR</td>\n",
       "      <td>Year of data=2010</td>\n",
       "    </tr>\n",
       "    <tr>\n",
       "      <th>6</th>\n",
       "      <td>TP-TotPop</td>\n",
       "      <td>Total population of county, in thousands</td>\n",
       "    </tr>\n",
       "    <tr>\n",
       "      <th>7</th>\n",
       "      <td>PS-GWPop</td>\n",
       "      <td>Public Supply, population served by groundwate...</td>\n",
       "    </tr>\n",
       "    <tr>\n",
       "      <th>8</th>\n",
       "      <td>PS-SWPop</td>\n",
       "      <td>Public Supply, population served by surface wa...</td>\n",
       "    </tr>\n",
       "    <tr>\n",
       "      <th>9</th>\n",
       "      <td>PS-TOPop</td>\n",
       "      <td>Public Supply, total population served, in tho...</td>\n",
       "    </tr>\n",
       "    <tr>\n",
       "      <th>10</th>\n",
       "      <td>PS-WGWFr</td>\n",
       "      <td>Public Supply,  groundwater withdrawals, fresh...</td>\n",
       "    </tr>\n",
       "    <tr>\n",
       "      <th>11</th>\n",
       "      <td>PS-WGWSa</td>\n",
       "      <td>Public Supply, groundwater withdrawals, saline...</td>\n",
       "    </tr>\n",
       "    <tr>\n",
       "      <th>12</th>\n",
       "      <td>PS-WGWTo</td>\n",
       "      <td>Public Supply, groundwater withdrawals, total,...</td>\n",
       "    </tr>\n",
       "    <tr>\n",
       "      <th>13</th>\n",
       "      <td>PS-WSWFr</td>\n",
       "      <td>Public Supply, surface-water withdrawals, fres...</td>\n",
       "    </tr>\n",
       "    <tr>\n",
       "      <th>14</th>\n",
       "      <td>PS-WSWSa</td>\n",
       "      <td>Public Supply, surface-water withdrawals, sali...</td>\n",
       "    </tr>\n",
       "    <tr>\n",
       "      <th>15</th>\n",
       "      <td>PS-WSWTo</td>\n",
       "      <td>Public Supply, surface-water withdrawals, tota...</td>\n",
       "    </tr>\n",
       "    <tr>\n",
       "      <th>16</th>\n",
       "      <td>PS-WFrTo</td>\n",
       "      <td>Public Supply, total withdrawals, fresh, in Mg...</td>\n",
       "    </tr>\n",
       "    <tr>\n",
       "      <th>17</th>\n",
       "      <td>PS-WSaTo</td>\n",
       "      <td>Public Supply, total withdrawals, saline, in M...</td>\n",
       "    </tr>\n",
       "    <tr>\n",
       "      <th>18</th>\n",
       "      <td>PS-Wtotl</td>\n",
       "      <td>Public Supply, total withdrawals, total (fresh...</td>\n",
       "    </tr>\n",
       "    <tr>\n",
       "      <th>19</th>\n",
       "      <td>DO-SSPop</td>\n",
       "      <td>Domestic, self-supplied population, in thousands</td>\n",
       "    </tr>\n",
       "    <tr>\n",
       "      <th>20</th>\n",
       "      <td>DO-WGWFr</td>\n",
       "      <td>Domestic, self-supplied groundwater withdrawal...</td>\n",
       "    </tr>\n",
       "    <tr>\n",
       "      <th>21</th>\n",
       "      <td>DO-WSWFr</td>\n",
       "      <td>Domestic, self-supplied surface-water withdraw...</td>\n",
       "    </tr>\n",
       "    <tr>\n",
       "      <th>22</th>\n",
       "      <td>DO-WFrTo</td>\n",
       "      <td>Domestic, total self-supplied withdrawals, fre...</td>\n",
       "    </tr>\n",
       "    <tr>\n",
       "      <th>23</th>\n",
       "      <td>DO-SSPCp</td>\n",
       "      <td>Domestic self-supplied per capita use, in gall...</td>\n",
       "    </tr>\n",
       "    <tr>\n",
       "      <th>24</th>\n",
       "      <td>DO-PSDel</td>\n",
       "      <td>Domestic, deliveries from Public Supply, in Mg...</td>\n",
       "    </tr>\n",
       "    <tr>\n",
       "      <th>25</th>\n",
       "      <td>DO-PSPCp</td>\n",
       "      <td>Domestic, publicly supplied per capita use, in...</td>\n",
       "    </tr>\n",
       "    <tr>\n",
       "      <th>26</th>\n",
       "      <td>DO-TOTAL</td>\n",
       "      <td>Domestic, total use (withdrawals + deliveries)</td>\n",
       "    </tr>\n",
       "    <tr>\n",
       "      <th>27</th>\n",
       "      <td>IN-WGWFr</td>\n",
       "      <td>Industrial, self-supplied groundwater withdraw...</td>\n",
       "    </tr>\n",
       "    <tr>\n",
       "      <th>28</th>\n",
       "      <td>IN-WGWSa</td>\n",
       "      <td>Industrial, self-supplied groundwater withdraw...</td>\n",
       "    </tr>\n",
       "    <tr>\n",
       "      <th>29</th>\n",
       "      <td>IN-WGWTo</td>\n",
       "      <td>Industrial, self-supplied groundwater withdraw...</td>\n",
       "    </tr>\n",
       "    <tr>\n",
       "      <th>30</th>\n",
       "      <td>IN-WSWFr</td>\n",
       "      <td>Industrial, self-supplied surface-water withdr...</td>\n",
       "    </tr>\n",
       "    <tr>\n",
       "      <th>31</th>\n",
       "      <td>IN-WSWSa</td>\n",
       "      <td>Industrial, self-supplied surface-water withdr...</td>\n",
       "    </tr>\n",
       "    <tr>\n",
       "      <th>32</th>\n",
       "      <td>IN-WSWTo</td>\n",
       "      <td>Industrial, self-supplied surface-water withdr...</td>\n",
       "    </tr>\n",
       "    <tr>\n",
       "      <th>33</th>\n",
       "      <td>IN-WFrTo</td>\n",
       "      <td>Industrial, self-supplied total withdrawals, f...</td>\n",
       "    </tr>\n",
       "    <tr>\n",
       "      <th>34</th>\n",
       "      <td>IN-WSaTo</td>\n",
       "      <td>Industrial, self-supplied total withdrawals, s...</td>\n",
       "    </tr>\n",
       "    <tr>\n",
       "      <th>35</th>\n",
       "      <td>IN-Wtotl</td>\n",
       "      <td>Industrial, self-supplied total withdrawals, t...</td>\n",
       "    </tr>\n",
       "    <tr>\n",
       "      <th>36</th>\n",
       "      <td>IR-WGWFr</td>\n",
       "      <td>Irrigation, groundwater withdrawals, fresh, in...</td>\n",
       "    </tr>\n",
       "    <tr>\n",
       "      <th>37</th>\n",
       "      <td>IR-WSWFr</td>\n",
       "      <td>Irrigation, surface-water withdrawals, fresh, ...</td>\n",
       "    </tr>\n",
       "    <tr>\n",
       "      <th>38</th>\n",
       "      <td>IR-WFrTo</td>\n",
       "      <td>Irrigation, total withdrawals, fresh, in Mgal/d</td>\n",
       "    </tr>\n",
       "    <tr>\n",
       "      <th>39</th>\n",
       "      <td>IR-IrSpr</td>\n",
       "      <td>Irrigation, acres irrigated, sprinkler, in tho...</td>\n",
       "    </tr>\n",
       "    <tr>\n",
       "      <th>40</th>\n",
       "      <td>IR-IrMic</td>\n",
       "      <td>Irrigation, acres irrigated, microirrigation, ...</td>\n",
       "    </tr>\n",
       "    <tr>\n",
       "      <th>41</th>\n",
       "      <td>IR-IrSur</td>\n",
       "      <td>Irrigation, acres irrigated, surface (flood), ...</td>\n",
       "    </tr>\n",
       "    <tr>\n",
       "      <th>42</th>\n",
       "      <td>IR-IrTot</td>\n",
       "      <td>Irrigation, acres irrigated, total, in thousands</td>\n",
       "    </tr>\n",
       "    <tr>\n",
       "      <th>43</th>\n",
       "      <td>IC-WGWFr</td>\n",
       "      <td>Irrigation-Crop, groundwater withdrawals, fres...</td>\n",
       "    </tr>\n",
       "    <tr>\n",
       "      <th>44</th>\n",
       "      <td>IC-WSWFr</td>\n",
       "      <td>Irrigation-Crop, surface-water withdrawals, fr...</td>\n",
       "    </tr>\n",
       "    <tr>\n",
       "      <th>45</th>\n",
       "      <td>IC-WFrTo</td>\n",
       "      <td>Irrigation-Crop, total withdrawals, fresh, in ...</td>\n",
       "    </tr>\n",
       "    <tr>\n",
       "      <th>46</th>\n",
       "      <td>IC-IrSpr</td>\n",
       "      <td>Irrigation-Crop, acres irrigated, sprinkler, i...</td>\n",
       "    </tr>\n",
       "    <tr>\n",
       "      <th>47</th>\n",
       "      <td>IC-IrMic</td>\n",
       "      <td>Irrigation-Crop, acres irrigated, microirrigat...</td>\n",
       "    </tr>\n",
       "    <tr>\n",
       "      <th>48</th>\n",
       "      <td>IC-IrSur</td>\n",
       "      <td>Irrigation-Crop, acres irrigated, surface (flo...</td>\n",
       "    </tr>\n",
       "    <tr>\n",
       "      <th>49</th>\n",
       "      <td>IC-IrTot</td>\n",
       "      <td>Irrigation-Crop, acres irrigated, total, in th...</td>\n",
       "    </tr>\n",
       "    <tr>\n",
       "      <th>50</th>\n",
       "      <td>IG-WGWFr</td>\n",
       "      <td>Irrigation-Golf, groundwater withdrawals, fres...</td>\n",
       "    </tr>\n",
       "    <tr>\n",
       "      <th>51</th>\n",
       "      <td>IG-WSWFr</td>\n",
       "      <td>Irrigation-Golf, surface-water withdrawals, fr...</td>\n",
       "    </tr>\n",
       "    <tr>\n",
       "      <th>52</th>\n",
       "      <td>IG-WFrTo</td>\n",
       "      <td>Irrigation-Golf, total withdrawals, fresh, in ...</td>\n",
       "    </tr>\n",
       "    <tr>\n",
       "      <th>53</th>\n",
       "      <td>IG-IrSpr</td>\n",
       "      <td>Irrigation-Golf, acres irrigated, sprinkler, i...</td>\n",
       "    </tr>\n",
       "    <tr>\n",
       "      <th>54</th>\n",
       "      <td>IG-IrMic</td>\n",
       "      <td>Irrigation-Golf, acres irrigated, microirrigat...</td>\n",
       "    </tr>\n",
       "    <tr>\n",
       "      <th>55</th>\n",
       "      <td>IG-IrSur</td>\n",
       "      <td>Irrigation-Golf, acres irrigated, surface (flo...</td>\n",
       "    </tr>\n",
       "    <tr>\n",
       "      <th>56</th>\n",
       "      <td>IG-IrTot</td>\n",
       "      <td>Irrigation-Golf, acres irrigated, total, in th...</td>\n",
       "    </tr>\n",
       "    <tr>\n",
       "      <th>57</th>\n",
       "      <td>LI-WGWFr</td>\n",
       "      <td>Livestock, groundwater withdrawals, fresh, in ...</td>\n",
       "    </tr>\n",
       "    <tr>\n",
       "      <th>58</th>\n",
       "      <td>LI-WSWFr</td>\n",
       "      <td>Livestock, surface-water withdrawals, fresh, i...</td>\n",
       "    </tr>\n",
       "    <tr>\n",
       "      <th>59</th>\n",
       "      <td>LI-WFrTo</td>\n",
       "      <td>Livestock, total withdrawals, fresh, in Mgal/d</td>\n",
       "    </tr>\n",
       "    <tr>\n",
       "      <th>60</th>\n",
       "      <td>AQ-WGWFr</td>\n",
       "      <td>Aquaculture, groundwater withdrawals, fresh, i...</td>\n",
       "    </tr>\n",
       "    <tr>\n",
       "      <th>61</th>\n",
       "      <td>AQ-WGWSa</td>\n",
       "      <td>Aquaculture, groundwater withdrawals, saline, ...</td>\n",
       "    </tr>\n",
       "    <tr>\n",
       "      <th>62</th>\n",
       "      <td>AQ-WGWTo</td>\n",
       "      <td>Aquaculture, groundwater withdrawals, total, i...</td>\n",
       "    </tr>\n",
       "    <tr>\n",
       "      <th>63</th>\n",
       "      <td>AQ-WSWFr</td>\n",
       "      <td>Aquaculture, surface-water withdrawals, fresh,...</td>\n",
       "    </tr>\n",
       "    <tr>\n",
       "      <th>64</th>\n",
       "      <td>AQ-WSWSa</td>\n",
       "      <td>Aquaculture, surface-water withdrawals, saline...</td>\n",
       "    </tr>\n",
       "    <tr>\n",
       "      <th>65</th>\n",
       "      <td>AQ-WSWTo</td>\n",
       "      <td>Aquaculture, surface-water withdrawals, total,...</td>\n",
       "    </tr>\n",
       "    <tr>\n",
       "      <th>66</th>\n",
       "      <td>AQ-WFrTo</td>\n",
       "      <td>Aquaculture, total withdrawals, fresh, in Mgal/d</td>\n",
       "    </tr>\n",
       "    <tr>\n",
       "      <th>67</th>\n",
       "      <td>AQ-WSaTo</td>\n",
       "      <td>Aquaculture, total withdrawals, saline, in Mgal/d</td>\n",
       "    </tr>\n",
       "    <tr>\n",
       "      <th>68</th>\n",
       "      <td>AQ-WTotl</td>\n",
       "      <td>Aquaculture, total withdrawals, total (fresh+s...</td>\n",
       "    </tr>\n",
       "    <tr>\n",
       "      <th>69</th>\n",
       "      <td>MI-WGWFr</td>\n",
       "      <td>Mining, groundwater withdrawals, fresh, in Mgal/d</td>\n",
       "    </tr>\n",
       "    <tr>\n",
       "      <th>70</th>\n",
       "      <td>MI-WGWSa</td>\n",
       "      <td>Mining, groundwater withdrawals, saline, in Mg...</td>\n",
       "    </tr>\n",
       "    <tr>\n",
       "      <th>71</th>\n",
       "      <td>MI-WGWTo</td>\n",
       "      <td>Mining, groundwater withdrawals, total, in Mgal/d</td>\n",
       "    </tr>\n",
       "    <tr>\n",
       "      <th>72</th>\n",
       "      <td>MI-WSWFr</td>\n",
       "      <td>Mining, surface-water withdrawals, fresh, in M...</td>\n",
       "    </tr>\n",
       "    <tr>\n",
       "      <th>73</th>\n",
       "      <td>MI-WSWSa</td>\n",
       "      <td>Mining, surface-water withdrawals, saline, in ...</td>\n",
       "    </tr>\n",
       "    <tr>\n",
       "      <th>74</th>\n",
       "      <td>MI-WSWTo</td>\n",
       "      <td>Mining, surface-water withdrawals, total, in M...</td>\n",
       "    </tr>\n",
       "    <tr>\n",
       "      <th>75</th>\n",
       "      <td>MI-WFrTo</td>\n",
       "      <td>Mining, total withdrawals, fresh, in Mgal/d</td>\n",
       "    </tr>\n",
       "    <tr>\n",
       "      <th>76</th>\n",
       "      <td>MI-WSaTo</td>\n",
       "      <td>Mining, total withdrawals, saline, in Mgal/d</td>\n",
       "    </tr>\n",
       "    <tr>\n",
       "      <th>77</th>\n",
       "      <td>MI-Wtotl</td>\n",
       "      <td>Mining, total withdrawals, total (fresh+saline...</td>\n",
       "    </tr>\n",
       "    <tr>\n",
       "      <th>78</th>\n",
       "      <td>PT-WGWFr</td>\n",
       "      <td>Thermoelectric, groundwater withdrawals, fresh...</td>\n",
       "    </tr>\n",
       "    <tr>\n",
       "      <th>79</th>\n",
       "      <td>PT-WGWSa</td>\n",
       "      <td>Thermoelectric, groundwater withdrawals, salin...</td>\n",
       "    </tr>\n",
       "    <tr>\n",
       "      <th>80</th>\n",
       "      <td>PT-WGWTo</td>\n",
       "      <td>Thermoelectric, groundwater withdrawals, total...</td>\n",
       "    </tr>\n",
       "    <tr>\n",
       "      <th>81</th>\n",
       "      <td>PT-WSWFr</td>\n",
       "      <td>Thermoelectric, surface-water withdrawals, fre...</td>\n",
       "    </tr>\n",
       "    <tr>\n",
       "      <th>82</th>\n",
       "      <td>PT-WSWSa</td>\n",
       "      <td>Thermoelectric, surface-water withdrawals, sal...</td>\n",
       "    </tr>\n",
       "    <tr>\n",
       "      <th>83</th>\n",
       "      <td>PT-WSWTo</td>\n",
       "      <td>Thermoelectric, surface-water withdrawals, tot...</td>\n",
       "    </tr>\n",
       "    <tr>\n",
       "      <th>84</th>\n",
       "      <td>PT-WFrTo</td>\n",
       "      <td>Thermoelectric, total withdrawals, fresh, in M...</td>\n",
       "    </tr>\n",
       "    <tr>\n",
       "      <th>85</th>\n",
       "      <td>PT-WSaTo</td>\n",
       "      <td>Thermoelectric, total withdrawals, saline, in ...</td>\n",
       "    </tr>\n",
       "    <tr>\n",
       "      <th>86</th>\n",
       "      <td>PT-Wtotl</td>\n",
       "      <td>Thermoelectric, total withdrawals, total (fres...</td>\n",
       "    </tr>\n",
       "    <tr>\n",
       "      <th>87</th>\n",
       "      <td>PT-Power</td>\n",
       "      <td>Thermoelectric, power generated, in gigawatt-h...</td>\n",
       "    </tr>\n",
       "    <tr>\n",
       "      <th>88</th>\n",
       "      <td>PO-WGWFr</td>\n",
       "      <td>Thermoelectric once-through, groundwater withd...</td>\n",
       "    </tr>\n",
       "    <tr>\n",
       "      <th>89</th>\n",
       "      <td>PO-WGWSa</td>\n",
       "      <td>Thermoelectric once-through, groundwater withd...</td>\n",
       "    </tr>\n",
       "    <tr>\n",
       "      <th>90</th>\n",
       "      <td>PO-WGWTo</td>\n",
       "      <td>Thermoelectric once-through, groundwater withd...</td>\n",
       "    </tr>\n",
       "    <tr>\n",
       "      <th>91</th>\n",
       "      <td>PO-WSWFr</td>\n",
       "      <td>Thermoelectric once-through, surface-water wit...</td>\n",
       "    </tr>\n",
       "    <tr>\n",
       "      <th>92</th>\n",
       "      <td>PO-WSWSa</td>\n",
       "      <td>Thermoelectric once-through, surface-water wit...</td>\n",
       "    </tr>\n",
       "    <tr>\n",
       "      <th>93</th>\n",
       "      <td>PO-WSWTo</td>\n",
       "      <td>Thermoelectric once-through, surface-water wit...</td>\n",
       "    </tr>\n",
       "    <tr>\n",
       "      <th>94</th>\n",
       "      <td>PO-WFrTo</td>\n",
       "      <td>Thermoelectric once-through, total withdrawals...</td>\n",
       "    </tr>\n",
       "    <tr>\n",
       "      <th>95</th>\n",
       "      <td>PO-WSaTo</td>\n",
       "      <td>Thermoelectric once-through, total withdrawals...</td>\n",
       "    </tr>\n",
       "    <tr>\n",
       "      <th>96</th>\n",
       "      <td>PO-WTotl</td>\n",
       "      <td>Thermoelectric once-through, total withdrawals...</td>\n",
       "    </tr>\n",
       "    <tr>\n",
       "      <th>97</th>\n",
       "      <td>PO-Power</td>\n",
       "      <td>Thermoelectric once-through, power generated, ...</td>\n",
       "    </tr>\n",
       "    <tr>\n",
       "      <th>98</th>\n",
       "      <td>PC-WGWFr</td>\n",
       "      <td>Thermoelectric recirculation, groundwater with...</td>\n",
       "    </tr>\n",
       "    <tr>\n",
       "      <th>99</th>\n",
       "      <td>PC-WGWSa</td>\n",
       "      <td>Thermoelectric recirculation, groundwater with...</td>\n",
       "    </tr>\n",
       "    <tr>\n",
       "      <th>100</th>\n",
       "      <td>PC-WGWTo</td>\n",
       "      <td>Thermoelectric recirculation, groundwater with...</td>\n",
       "    </tr>\n",
       "    <tr>\n",
       "      <th>101</th>\n",
       "      <td>PC-WSWFr</td>\n",
       "      <td>Thermoelectric recirculation, surface-water wi...</td>\n",
       "    </tr>\n",
       "    <tr>\n",
       "      <th>102</th>\n",
       "      <td>PC-WSWSa</td>\n",
       "      <td>Thermoelectric recirculation, surface-water wi...</td>\n",
       "    </tr>\n",
       "    <tr>\n",
       "      <th>103</th>\n",
       "      <td>PC-WSWTo</td>\n",
       "      <td>Thermoelectric recirculation, surface-water wi...</td>\n",
       "    </tr>\n",
       "    <tr>\n",
       "      <th>104</th>\n",
       "      <td>PC-WFrTo</td>\n",
       "      <td>Thermoelectric recirculation, total withdrawal...</td>\n",
       "    </tr>\n",
       "    <tr>\n",
       "      <th>105</th>\n",
       "      <td>PC-WSaTo</td>\n",
       "      <td>Thermoelectric recirculation, total withdrawal...</td>\n",
       "    </tr>\n",
       "    <tr>\n",
       "      <th>106</th>\n",
       "      <td>PC-WTotl</td>\n",
       "      <td>Thermoelectric recirculation, total withdrawal...</td>\n",
       "    </tr>\n",
       "    <tr>\n",
       "      <th>107</th>\n",
       "      <td>PC-Power</td>\n",
       "      <td>Thermoelectric recirculation, power generated,...</td>\n",
       "    </tr>\n",
       "    <tr>\n",
       "      <th>108</th>\n",
       "      <td>TO-WGWFr</td>\n",
       "      <td>Total groundwater withdrawals, fresh, in Mgal/d</td>\n",
       "    </tr>\n",
       "    <tr>\n",
       "      <th>109</th>\n",
       "      <td>TO-WGWSa</td>\n",
       "      <td>Total groundwater withdrawals, saline, in Mgal/d</td>\n",
       "    </tr>\n",
       "    <tr>\n",
       "      <th>110</th>\n",
       "      <td>TO-WGWTo</td>\n",
       "      <td>Total groundwater withdrawals, total (fresh+sa...</td>\n",
       "    </tr>\n",
       "    <tr>\n",
       "      <th>111</th>\n",
       "      <td>TO-WSWFr</td>\n",
       "      <td>Total surface-water withdrawals, fresh, in Mgal/d</td>\n",
       "    </tr>\n",
       "    <tr>\n",
       "      <th>112</th>\n",
       "      <td>TO-WSWSa</td>\n",
       "      <td>Total surface-water withdrawals, saline, in Mg...</td>\n",
       "    </tr>\n",
       "    <tr>\n",
       "      <th>113</th>\n",
       "      <td>TO-WSWTo</td>\n",
       "      <td>Total surface-water withdrawals, total (fresh+...</td>\n",
       "    </tr>\n",
       "    <tr>\n",
       "      <th>114</th>\n",
       "      <td>TO-WFrTo</td>\n",
       "      <td>Total withdrawals, fresh, in Mgal/d</td>\n",
       "    </tr>\n",
       "    <tr>\n",
       "      <th>115</th>\n",
       "      <td>TO-WSaTo</td>\n",
       "      <td>Total withdrawals, saline, in Mgal/d</td>\n",
       "    </tr>\n",
       "    <tr>\n",
       "      <th>116</th>\n",
       "      <td>TO-WTotl</td>\n",
       "      <td>Total withdrawals, total (fresh+saline), in Mg...</td>\n",
       "    </tr>\n",
       "  </tbody>\n",
       "</table>\n",
       "</div>"
      ],
      "text/plain": [
       "     Column Tag                                       Data Element\n",
       "0         STATE                          State postal abbreviation\n",
       "1     STATEFIPS                                    State FIPS code\n",
       "2        COUNTY                                        County name\n",
       "3    COUNTYFIPS                                   County FIPS code\n",
       "4          FIPS                Concatenated State-county FIPS code\n",
       "5          YEAR                                  Year of data=2010\n",
       "6     TP-TotPop           Total population of county, in thousands\n",
       "7      PS-GWPop  Public Supply, population served by groundwate...\n",
       "8      PS-SWPop  Public Supply, population served by surface wa...\n",
       "9      PS-TOPop  Public Supply, total population served, in tho...\n",
       "10     PS-WGWFr  Public Supply,  groundwater withdrawals, fresh...\n",
       "11     PS-WGWSa  Public Supply, groundwater withdrawals, saline...\n",
       "12     PS-WGWTo  Public Supply, groundwater withdrawals, total,...\n",
       "13     PS-WSWFr  Public Supply, surface-water withdrawals, fres...\n",
       "14     PS-WSWSa  Public Supply, surface-water withdrawals, sali...\n",
       "15     PS-WSWTo  Public Supply, surface-water withdrawals, tota...\n",
       "16     PS-WFrTo  Public Supply, total withdrawals, fresh, in Mg...\n",
       "17     PS-WSaTo  Public Supply, total withdrawals, saline, in M...\n",
       "18     PS-Wtotl  Public Supply, total withdrawals, total (fresh...\n",
       "19     DO-SSPop   Domestic, self-supplied population, in thousands\n",
       "20     DO-WGWFr  Domestic, self-supplied groundwater withdrawal...\n",
       "21     DO-WSWFr  Domestic, self-supplied surface-water withdraw...\n",
       "22     DO-WFrTo  Domestic, total self-supplied withdrawals, fre...\n",
       "23     DO-SSPCp  Domestic self-supplied per capita use, in gall...\n",
       "24     DO-PSDel  Domestic, deliveries from Public Supply, in Mg...\n",
       "25     DO-PSPCp  Domestic, publicly supplied per capita use, in...\n",
       "26    DO-TOTAL      Domestic, total use (withdrawals + deliveries)\n",
       "27     IN-WGWFr  Industrial, self-supplied groundwater withdraw...\n",
       "28     IN-WGWSa  Industrial, self-supplied groundwater withdraw...\n",
       "29     IN-WGWTo  Industrial, self-supplied groundwater withdraw...\n",
       "30     IN-WSWFr  Industrial, self-supplied surface-water withdr...\n",
       "31     IN-WSWSa  Industrial, self-supplied surface-water withdr...\n",
       "32     IN-WSWTo  Industrial, self-supplied surface-water withdr...\n",
       "33     IN-WFrTo  Industrial, self-supplied total withdrawals, f...\n",
       "34     IN-WSaTo  Industrial, self-supplied total withdrawals, s...\n",
       "35     IN-Wtotl  Industrial, self-supplied total withdrawals, t...\n",
       "36     IR-WGWFr  Irrigation, groundwater withdrawals, fresh, in...\n",
       "37     IR-WSWFr  Irrigation, surface-water withdrawals, fresh, ...\n",
       "38     IR-WFrTo    Irrigation, total withdrawals, fresh, in Mgal/d\n",
       "39     IR-IrSpr  Irrigation, acres irrigated, sprinkler, in tho...\n",
       "40     IR-IrMic  Irrigation, acres irrigated, microirrigation, ...\n",
       "41     IR-IrSur  Irrigation, acres irrigated, surface (flood), ...\n",
       "42     IR-IrTot   Irrigation, acres irrigated, total, in thousands\n",
       "43     IC-WGWFr  Irrigation-Crop, groundwater withdrawals, fres...\n",
       "44     IC-WSWFr  Irrigation-Crop, surface-water withdrawals, fr...\n",
       "45     IC-WFrTo  Irrigation-Crop, total withdrawals, fresh, in ...\n",
       "46     IC-IrSpr  Irrigation-Crop, acres irrigated, sprinkler, i...\n",
       "47     IC-IrMic  Irrigation-Crop, acres irrigated, microirrigat...\n",
       "48     IC-IrSur  Irrigation-Crop, acres irrigated, surface (flo...\n",
       "49     IC-IrTot  Irrigation-Crop, acres irrigated, total, in th...\n",
       "50     IG-WGWFr  Irrigation-Golf, groundwater withdrawals, fres...\n",
       "51     IG-WSWFr  Irrigation-Golf, surface-water withdrawals, fr...\n",
       "52     IG-WFrTo  Irrigation-Golf, total withdrawals, fresh, in ...\n",
       "53     IG-IrSpr  Irrigation-Golf, acres irrigated, sprinkler, i...\n",
       "54     IG-IrMic  Irrigation-Golf, acres irrigated, microirrigat...\n",
       "55     IG-IrSur  Irrigation-Golf, acres irrigated, surface (flo...\n",
       "56     IG-IrTot  Irrigation-Golf, acres irrigated, total, in th...\n",
       "57     LI-WGWFr  Livestock, groundwater withdrawals, fresh, in ...\n",
       "58     LI-WSWFr  Livestock, surface-water withdrawals, fresh, i...\n",
       "59     LI-WFrTo     Livestock, total withdrawals, fresh, in Mgal/d\n",
       "60     AQ-WGWFr  Aquaculture, groundwater withdrawals, fresh, i...\n",
       "61     AQ-WGWSa  Aquaculture, groundwater withdrawals, saline, ...\n",
       "62     AQ-WGWTo  Aquaculture, groundwater withdrawals, total, i...\n",
       "63     AQ-WSWFr  Aquaculture, surface-water withdrawals, fresh,...\n",
       "64     AQ-WSWSa  Aquaculture, surface-water withdrawals, saline...\n",
       "65     AQ-WSWTo  Aquaculture, surface-water withdrawals, total,...\n",
       "66     AQ-WFrTo   Aquaculture, total withdrawals, fresh, in Mgal/d\n",
       "67     AQ-WSaTo  Aquaculture, total withdrawals, saline, in Mgal/d\n",
       "68     AQ-WTotl  Aquaculture, total withdrawals, total (fresh+s...\n",
       "69     MI-WGWFr  Mining, groundwater withdrawals, fresh, in Mgal/d\n",
       "70     MI-WGWSa  Mining, groundwater withdrawals, saline, in Mg...\n",
       "71     MI-WGWTo  Mining, groundwater withdrawals, total, in Mgal/d\n",
       "72     MI-WSWFr  Mining, surface-water withdrawals, fresh, in M...\n",
       "73     MI-WSWSa  Mining, surface-water withdrawals, saline, in ...\n",
       "74     MI-WSWTo  Mining, surface-water withdrawals, total, in M...\n",
       "75     MI-WFrTo        Mining, total withdrawals, fresh, in Mgal/d\n",
       "76     MI-WSaTo       Mining, total withdrawals, saline, in Mgal/d\n",
       "77     MI-Wtotl  Mining, total withdrawals, total (fresh+saline...\n",
       "78     PT-WGWFr  Thermoelectric, groundwater withdrawals, fresh...\n",
       "79     PT-WGWSa  Thermoelectric, groundwater withdrawals, salin...\n",
       "80     PT-WGWTo  Thermoelectric, groundwater withdrawals, total...\n",
       "81     PT-WSWFr  Thermoelectric, surface-water withdrawals, fre...\n",
       "82     PT-WSWSa  Thermoelectric, surface-water withdrawals, sal...\n",
       "83     PT-WSWTo  Thermoelectric, surface-water withdrawals, tot...\n",
       "84     PT-WFrTo  Thermoelectric, total withdrawals, fresh, in M...\n",
       "85     PT-WSaTo  Thermoelectric, total withdrawals, saline, in ...\n",
       "86     PT-Wtotl  Thermoelectric, total withdrawals, total (fres...\n",
       "87     PT-Power  Thermoelectric, power generated, in gigawatt-h...\n",
       "88     PO-WGWFr  Thermoelectric once-through, groundwater withd...\n",
       "89     PO-WGWSa  Thermoelectric once-through, groundwater withd...\n",
       "90     PO-WGWTo  Thermoelectric once-through, groundwater withd...\n",
       "91     PO-WSWFr  Thermoelectric once-through, surface-water wit...\n",
       "92     PO-WSWSa  Thermoelectric once-through, surface-water wit...\n",
       "93     PO-WSWTo  Thermoelectric once-through, surface-water wit...\n",
       "94     PO-WFrTo  Thermoelectric once-through, total withdrawals...\n",
       "95     PO-WSaTo  Thermoelectric once-through, total withdrawals...\n",
       "96     PO-WTotl  Thermoelectric once-through, total withdrawals...\n",
       "97     PO-Power  Thermoelectric once-through, power generated, ...\n",
       "98     PC-WGWFr  Thermoelectric recirculation, groundwater with...\n",
       "99     PC-WGWSa  Thermoelectric recirculation, groundwater with...\n",
       "100    PC-WGWTo  Thermoelectric recirculation, groundwater with...\n",
       "101    PC-WSWFr  Thermoelectric recirculation, surface-water wi...\n",
       "102    PC-WSWSa  Thermoelectric recirculation, surface-water wi...\n",
       "103    PC-WSWTo  Thermoelectric recirculation, surface-water wi...\n",
       "104    PC-WFrTo  Thermoelectric recirculation, total withdrawal...\n",
       "105    PC-WSaTo  Thermoelectric recirculation, total withdrawal...\n",
       "106    PC-WTotl  Thermoelectric recirculation, total withdrawal...\n",
       "107    PC-Power  Thermoelectric recirculation, power generated,...\n",
       "108    TO-WGWFr    Total groundwater withdrawals, fresh, in Mgal/d\n",
       "109    TO-WGWSa   Total groundwater withdrawals, saline, in Mgal/d\n",
       "110    TO-WGWTo  Total groundwater withdrawals, total (fresh+sa...\n",
       "111    TO-WSWFr  Total surface-water withdrawals, fresh, in Mgal/d\n",
       "112    TO-WSWSa  Total surface-water withdrawals, saline, in Mg...\n",
       "113    TO-WSWTo  Total surface-water withdrawals, total (fresh+...\n",
       "114    TO-WFrTo                Total withdrawals, fresh, in Mgal/d\n",
       "115    TO-WSaTo               Total withdrawals, saline, in Mgal/d\n",
       "116    TO-WTotl  Total withdrawals, total (fresh+saline), in Mg..."
      ]
     },
     "execution_count": 59,
     "metadata": {},
     "output_type": "execute_result"
    }
   ],
   "source": [
    "df2"
   ]
  },
  {
   "cell_type": "code",
   "execution_count": null,
   "metadata": {
    "collapsed": true
   },
   "outputs": [],
   "source": []
  }
 ],
 "metadata": {
  "kernelspec": {
   "display_name": "Python 2",
   "language": "python",
   "name": "python2"
  },
  "language_info": {
   "codemirror_mode": {
    "name": "ipython",
    "version": 2
   },
   "file_extension": ".py",
   "mimetype": "text/x-python",
   "name": "python",
   "nbconvert_exporter": "python",
   "pygments_lexer": "ipython2",
   "version": "2.7.10"
  }
 },
 "nbformat": 4,
 "nbformat_minor": 0
}
